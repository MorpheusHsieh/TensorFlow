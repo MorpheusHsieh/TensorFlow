{
 "cells": [
  {
   "cell_type": "code",
   "execution_count": 1,
   "metadata": {},
   "outputs": [],
   "source": [
    "import tensorflow as tf\n",
    "import time"
   ]
  },
  {
   "cell_type": "code",
   "execution_count": 2,
   "metadata": {},
   "outputs": [
    {
     "name": "stdout",
     "output_type": "stream",
     "text": [
      "result= -1893.1455\n"
     ]
    }
   ],
   "source": [
    "size = 500\n",
    "W = tf.random_normal([size, size], name='W')\n",
    "X = tf.random_normal([size, size], name='X')\n",
    "mul = tf.matmul(W, X, name='mul')\n",
    "sum_result = tf.reduce_sum(mul, name='sum')\n",
    "\n",
    "with tf.Session() as sess:\n",
    "    result = sess.run(sum_result)\n",
    "print('result=', result)"
   ]
  },
  {
   "cell_type": "code",
   "execution_count": 3,
   "metadata": {},
   "outputs": [
    {
     "name": "stdout",
     "output_type": "stream",
     "text": [
      "result= 2921.2793\n"
     ]
    }
   ],
   "source": [
    "size = 500\n",
    "W = tf.random_normal([size, size], name='W')\n",
    "X = tf.random_normal([size, size], name='X')\n",
    "mul = tf.matmul(W, X, name='mul')\n",
    "sum_result = tf.reduce_sum(mul, name='sum')\n",
    "\n",
    "tfconfig = tf.ConfigProto(log_device_placement = True)\n",
    "with tf.Session(config = tfconfig) as sess:\n",
    "    result = sess.run(sum_result)\n",
    "\n",
    "print('result=', result)    "
   ]
  },
  {
   "cell_type": "code",
   "execution_count": 4,
   "metadata": {},
   "outputs": [
    {
     "name": "stdout",
     "output_type": "stream",
     "text": [
      "result= 13288.518\n"
     ]
    }
   ],
   "source": [
    "size = 500\n",
    "with tf.device(\"/cpu:0\"):\n",
    "    W = tf.random_normal([size, size], name='W')\n",
    "    X = tf.random_normal([size, size], name='X')\n",
    "    mul = tf.matmul(W, X, name='mul')\n",
    "    sum_result = tf.reduce_sum(mul, name='sum')\n",
    "\n",
    "tfconfig = tf.ConfigProto(log_device_placement = True)\n",
    "with tf.Session(config = tfconfig) as sess:\n",
    "    result = sess.run(sum_result)\n",
    "\n",
    "print('result=', result)    "
   ]
  },
  {
   "cell_type": "code",
   "execution_count": 5,
   "metadata": {},
   "outputs": [
    {
     "name": "stdout",
     "output_type": "stream",
     "text": [
      "result= 813.8208\n"
     ]
    }
   ],
   "source": [
    "size = 500\n",
    "with tf.device(\"/gpu:0\"):\n",
    "    W = tf.random_normal([size, size], name='W')\n",
    "    X = tf.random_normal([size, size], name='X')\n",
    "    mul = tf.matmul(W, X, name='mul')\n",
    "    sum_result = tf.reduce_sum(mul, name='sum')\n",
    "\n",
    "tfconfig = tf.ConfigProto(log_device_placement = True)\n",
    "with tf.Session(config = tfconfig) as sess:\n",
    "    result = sess.run(sum_result)\n",
    "\n",
    "print('result=', result)"
   ]
  },
  {
   "cell_type": "code",
   "execution_count": 6,
   "metadata": {},
   "outputs": [],
   "source": [
    "# Performance Test\n",
    "\n",
    "def performanceTest(device_name, size):\n",
    "    with tf.device(device_name):\n",
    "        W = tf.random_normal([size, size], name='W')\n",
    "        X = tf.random_normal([size, size], name='X')\n",
    "        mul = tf.matmul(W, X, name='mul')\n",
    "        sum_result = tf.reduce_sum(mul, name='sum')\n",
    "        \n",
    "    startTime = time.time()\n",
    "    \n",
    "    tfconfig = tf.ConfigProto(log_device_placement = True)\n",
    "    with tf.Session(config = tfconfig) as sess:\n",
    "        result = sess.run(sum_result)\n",
    "    \n",
    "    takeTimes = time.time() - startTime\n",
    "    \n",
    "    print(device_name, \"size=\", size, \"Time:\", takeTimes)\n",
    "    return takeTimes"
   ]
  },
  {
   "cell_type": "code",
   "execution_count": 7,
   "metadata": {},
   "outputs": [
    {
     "name": "stdout",
     "output_type": "stream",
     "text": [
      "/gpu:0 size= 100 Time: 0.3839998245239258\n",
      "/cpu:0 size= 100 Time: 0.5209999084472656\n"
     ]
    }
   ],
   "source": [
    "g = performanceTest(\"/gpu:0\", 100)\n",
    "c = performanceTest(\"/cpu:0\", 100)"
   ]
  },
  {
   "cell_type": "code",
   "execution_count": 8,
   "metadata": {},
   "outputs": [
    {
     "name": "stdout",
     "output_type": "stream",
     "text": [
      "/gpu:0 size= 0 Time: 0.5339999198913574\n",
      "/cpu:0 size= 0 Time: 0.5869996547698975\n",
      "/gpu:0 size= 500 Time: 0.6499998569488525\n",
      "/cpu:0 size= 500 Time: 0.7339999675750732\n",
      "/gpu:0 size= 1000 Time: 0.7820003032684326\n",
      "/cpu:0 size= 1000 Time: 0.8830001354217529\n",
      "/gpu:0 size= 1500 Time: 0.9100003242492676\n",
      "/cpu:0 size= 1500 Time: 1.0729999542236328\n",
      "/gpu:0 size= 2000 Time: 1.0510001182556152\n",
      "/cpu:0 size= 2000 Time: 1.315000057220459\n",
      "/gpu:0 size= 2500 Time: 1.184000015258789\n",
      "/cpu:0 size= 2500 Time: 1.6560001373291016\n",
      "/gpu:0 size= 3000 Time: 1.3380002975463867\n",
      "/cpu:0 size= 3000 Time: 1.9500000476837158\n",
      "/gpu:0 size= 3500 Time: 1.4849998950958252\n",
      "/cpu:0 size= 3500 Time: 2.4009997844696045\n",
      "/gpu:0 size= 4000 Time: 1.6619999408721924\n",
      "/cpu:0 size= 4000 Time: 2.9189999103546143\n",
      "/gpu:0 size= 4500 Time: 1.7750000953674316\n",
      "/cpu:0 size= 4500 Time: 3.5290002822875977\n",
      "/gpu:0 size= 5000 Time: 1.9600000381469727\n",
      "/cpu:0 size= 5000 Time: 4.200999975204468\n"
     ]
    }
   ],
   "source": [
    "gpu_set = []\n",
    "cpu_set = []\n",
    "i_set = []\n",
    "for i in range(0, 5001, 500):\n",
    "    g = performanceTest(\"/gpu:0\", i)\n",
    "    c = performanceTest(\"/cpu:0\", i)\n",
    "    gpu_set.append(g)\n",
    "    cpu_set.append(c)\n",
    "    i_set.append(i)"
   ]
  },
  {
   "cell_type": "code",
   "execution_count": 9,
   "metadata": {},
   "outputs": [
    {
     "data": {
      "text/plain": [
       "<matplotlib.legend.Legend at 0x69db00b8>"
      ]
     },
     "execution_count": 9,
     "metadata": {},
     "output_type": "execute_result"
    },
    {
     "data": {
      "image/png": "[encoded data removed]",
      "text/plain": [
       "<Figure size 432x288 with 1 Axes>"
      ]
     },
     "metadata": {
      "needs_background": "light"
     },
     "output_type": "display_data"
    }
   ],
   "source": [
    "%matplotlib inline\n",
    "import matplotlib.pyplot as plt\n",
    "fig = plt.gcf()\n",
    "fig.set_size_inches(6,4)\n",
    "plt.plot(i_set, gpu_set, label = 'gpu')\n",
    "plt.plot(i_set, cpu_set, label = 'cpu')\n",
    "plt.legend()"
   ]
  },
  {
   "cell_type": "code",
   "execution_count": 10,
   "metadata": {},
   "outputs": [
    {
     "name": "stdout",
     "output_type": "stream",
     "text": [
      "/gpu:0 size= 10000 Time: 2.511000156402588\n"
     ]
    }
   ],
   "source": [
    "g = performanceTest(\"/gpu:0\", 10000)"
   ]
  },
  {
   "cell_type": "code",
   "execution_count": null,
   "metadata": {},
   "outputs": [],
   "source": []
  }
 ],
 "metadata": {
  "kernelspec": {
   "display_name": "Python 3",
   "language": "python",
   "name": "python3"
  },
  "language_info": {
   "codemirror_mode": {
    "name": "ipython",
    "version": 3
   },
   "file_extension": ".py",
   "mimetype": "text/x-python",
   "name": "python",
   "nbconvert_exporter": "python",
   "pygments_lexer": "ipython3",
   "version": "3.6.7"
  }
 },
 "nbformat": 4,
 "nbformat_minor": 2
}
