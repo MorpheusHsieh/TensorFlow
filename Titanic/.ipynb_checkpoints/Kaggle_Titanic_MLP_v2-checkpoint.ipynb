{
 "cells": [
  {
   "cell_type": "code",
   "execution_count": 1,
   "metadata": {},
   "outputs": [
    {
     "data": {
      "text/html": [
       "<div>\n",
       "<style scoped>\n",
       "    .dataframe tbody tr th:only-of-type {\n",
       "        vertical-align: middle;\n",
       "    }\n",
       "\n",
       "    .dataframe tbody tr th {\n",
       "        vertical-align: top;\n",
       "    }\n",
       "\n",
       "    .dataframe thead th {\n",
       "        text-align: right;\n",
       "    }\n",
       "</style>\n",
       "<table border=\"1\" class=\"dataframe\">\n",
       "  <thead>\n",
       "    <tr style=\"text-align: right;\">\n",
       "      <th></th>\n",
       "      <th>PassengerId</th>\n",
       "      <th>Survived</th>\n",
       "      <th>Pclass</th>\n",
       "      <th>Name</th>\n",
       "      <th>Sex</th>\n",
       "      <th>Age</th>\n",
       "      <th>SibSp</th>\n",
       "      <th>Parch</th>\n",
       "      <th>Ticket</th>\n",
       "      <th>Fare</th>\n",
       "      <th>Cabin</th>\n",
       "      <th>Embarked</th>\n",
       "    </tr>\n",
       "  </thead>\n",
       "  <tbody>\n",
       "    <tr>\n",
       "      <th>0</th>\n",
       "      <td>1</td>\n",
       "      <td>0</td>\n",
       "      <td>3</td>\n",
       "      <td>Braund, Mr. Owen Harris</td>\n",
       "      <td>male</td>\n",
       "      <td>22.0</td>\n",
       "      <td>1</td>\n",
       "      <td>0</td>\n",
       "      <td>A/5 21171</td>\n",
       "      <td>7.2500</td>\n",
       "      <td>NaN</td>\n",
       "      <td>S</td>\n",
       "    </tr>\n",
       "    <tr>\n",
       "      <th>1</th>\n",
       "      <td>2</td>\n",
       "      <td>1</td>\n",
       "      <td>1</td>\n",
       "      <td>Cumings, Mrs. John Bradley (Florence Briggs Th...</td>\n",
       "      <td>female</td>\n",
       "      <td>38.0</td>\n",
       "      <td>1</td>\n",
       "      <td>0</td>\n",
       "      <td>PC 17599</td>\n",
       "      <td>71.2833</td>\n",
       "      <td>C85</td>\n",
       "      <td>C</td>\n",
       "    </tr>\n",
       "    <tr>\n",
       "      <th>2</th>\n",
       "      <td>3</td>\n",
       "      <td>1</td>\n",
       "      <td>3</td>\n",
       "      <td>Heikkinen, Miss. Laina</td>\n",
       "      <td>female</td>\n",
       "      <td>26.0</td>\n",
       "      <td>0</td>\n",
       "      <td>0</td>\n",
       "      <td>STON/O2. 3101282</td>\n",
       "      <td>7.9250</td>\n",
       "      <td>NaN</td>\n",
       "      <td>S</td>\n",
       "    </tr>\n",
       "    <tr>\n",
       "      <th>3</th>\n",
       "      <td>4</td>\n",
       "      <td>1</td>\n",
       "      <td>1</td>\n",
       "      <td>Futrelle, Mrs. Jacques Heath (Lily May Peel)</td>\n",
       "      <td>female</td>\n",
       "      <td>35.0</td>\n",
       "      <td>1</td>\n",
       "      <td>0</td>\n",
       "      <td>113803</td>\n",
       "      <td>53.1000</td>\n",
       "      <td>C123</td>\n",
       "      <td>S</td>\n",
       "    </tr>\n",
       "    <tr>\n",
       "      <th>4</th>\n",
       "      <td>5</td>\n",
       "      <td>0</td>\n",
       "      <td>3</td>\n",
       "      <td>Allen, Mr. William Henry</td>\n",
       "      <td>male</td>\n",
       "      <td>35.0</td>\n",
       "      <td>0</td>\n",
       "      <td>0</td>\n",
       "      <td>373450</td>\n",
       "      <td>8.0500</td>\n",
       "      <td>NaN</td>\n",
       "      <td>S</td>\n",
       "    </tr>\n",
       "  </tbody>\n",
       "</table>\n",
       "</div>"
      ],
      "text/plain": [
       "   PassengerId  Survived  Pclass  \\\n",
       "0            1         0       3   \n",
       "1            2         1       1   \n",
       "2            3         1       3   \n",
       "3            4         1       1   \n",
       "4            5         0       3   \n",
       "\n",
       "                                                Name     Sex   Age  SibSp  \\\n",
       "0                            Braund, Mr. Owen Harris    male  22.0      1   \n",
       "1  Cumings, Mrs. John Bradley (Florence Briggs Th...  female  38.0      1   \n",
       "2                             Heikkinen, Miss. Laina  female  26.0      0   \n",
       "3       Futrelle, Mrs. Jacques Heath (Lily May Peel)  female  35.0      1   \n",
       "4                           Allen, Mr. William Henry    male  35.0      0   \n",
       "\n",
       "   Parch            Ticket     Fare Cabin Embarked  \n",
       "0      0         A/5 21171   7.2500   NaN        S  \n",
       "1      0          PC 17599  71.2833   C85        C  \n",
       "2      0  STON/O2. 3101282   7.9250   NaN        S  \n",
       "3      0            113803  53.1000  C123        S  \n",
       "4      0            373450   8.0500   NaN        S  "
      ]
     },
     "execution_count": 1,
     "metadata": {},
     "output_type": "execute_result"
    }
   ],
   "source": [
    "import os\n",
    "import numpy as np\n",
    "import pandas as pd\n",
    "import matplotlib.pyplot as plt\n",
    "import seaborn as sns\n",
    "\n",
    "%matplotlib inline\n",
    "\n",
    "train_file = \"data/train.csv\"\n",
    "train_data = pd.read_csv(train_file)\n",
    "\n",
    "train_data[:5]"
   ]
  },
  {
   "cell_type": "code",
   "execution_count": 2,
   "metadata": {},
   "outputs": [
    {
     "data": {
      "text/html": [
       "<div>\n",
       "<style scoped>\n",
       "    .dataframe tbody tr th:only-of-type {\n",
       "        vertical-align: middle;\n",
       "    }\n",
       "\n",
       "    .dataframe tbody tr th {\n",
       "        vertical-align: top;\n",
       "    }\n",
       "\n",
       "    .dataframe thead th {\n",
       "        text-align: right;\n",
       "    }\n",
       "</style>\n",
       "<table border=\"1\" class=\"dataframe\">\n",
       "  <thead>\n",
       "    <tr style=\"text-align: right;\">\n",
       "      <th></th>\n",
       "      <th>PassengerId</th>\n",
       "      <th>Survived</th>\n",
       "      <th>Pclass</th>\n",
       "      <th>Age</th>\n",
       "      <th>SibSp</th>\n",
       "      <th>Parch</th>\n",
       "      <th>Fare</th>\n",
       "    </tr>\n",
       "  </thead>\n",
       "  <tbody>\n",
       "    <tr>\n",
       "      <th>count</th>\n",
       "      <td>891.000000</td>\n",
       "      <td>891.000000</td>\n",
       "      <td>891.000000</td>\n",
       "      <td>714.000000</td>\n",
       "      <td>891.000000</td>\n",
       "      <td>891.000000</td>\n",
       "      <td>891.000000</td>\n",
       "    </tr>\n",
       "    <tr>\n",
       "      <th>mean</th>\n",
       "      <td>446.000000</td>\n",
       "      <td>0.383838</td>\n",
       "      <td>2.308642</td>\n",
       "      <td>29.699118</td>\n",
       "      <td>0.523008</td>\n",
       "      <td>0.381594</td>\n",
       "      <td>32.204208</td>\n",
       "    </tr>\n",
       "    <tr>\n",
       "      <th>std</th>\n",
       "      <td>257.353842</td>\n",
       "      <td>0.486592</td>\n",
       "      <td>0.836071</td>\n",
       "      <td>14.526497</td>\n",
       "      <td>1.102743</td>\n",
       "      <td>0.806057</td>\n",
       "      <td>49.693429</td>\n",
       "    </tr>\n",
       "    <tr>\n",
       "      <th>min</th>\n",
       "      <td>1.000000</td>\n",
       "      <td>0.000000</td>\n",
       "      <td>1.000000</td>\n",
       "      <td>0.420000</td>\n",
       "      <td>0.000000</td>\n",
       "      <td>0.000000</td>\n",
       "      <td>0.000000</td>\n",
       "    </tr>\n",
       "    <tr>\n",
       "      <th>25%</th>\n",
       "      <td>223.500000</td>\n",
       "      <td>0.000000</td>\n",
       "      <td>2.000000</td>\n",
       "      <td>20.125000</td>\n",
       "      <td>0.000000</td>\n",
       "      <td>0.000000</td>\n",
       "      <td>7.910400</td>\n",
       "    </tr>\n",
       "    <tr>\n",
       "      <th>50%</th>\n",
       "      <td>446.000000</td>\n",
       "      <td>0.000000</td>\n",
       "      <td>3.000000</td>\n",
       "      <td>28.000000</td>\n",
       "      <td>0.000000</td>\n",
       "      <td>0.000000</td>\n",
       "      <td>14.454200</td>\n",
       "    </tr>\n",
       "    <tr>\n",
       "      <th>75%</th>\n",
       "      <td>668.500000</td>\n",
       "      <td>1.000000</td>\n",
       "      <td>3.000000</td>\n",
       "      <td>38.000000</td>\n",
       "      <td>1.000000</td>\n",
       "      <td>0.000000</td>\n",
       "      <td>31.000000</td>\n",
       "    </tr>\n",
       "    <tr>\n",
       "      <th>max</th>\n",
       "      <td>891.000000</td>\n",
       "      <td>1.000000</td>\n",
       "      <td>3.000000</td>\n",
       "      <td>80.000000</td>\n",
       "      <td>8.000000</td>\n",
       "      <td>6.000000</td>\n",
       "      <td>512.329200</td>\n",
       "    </tr>\n",
       "  </tbody>\n",
       "</table>\n",
       "</div>"
      ],
      "text/plain": [
       "       PassengerId    Survived      Pclass         Age       SibSp  \\\n",
       "count   891.000000  891.000000  891.000000  714.000000  891.000000   \n",
       "mean    446.000000    0.383838    2.308642   29.699118    0.523008   \n",
       "std     257.353842    0.486592    0.836071   14.526497    1.102743   \n",
       "min       1.000000    0.000000    1.000000    0.420000    0.000000   \n",
       "25%     223.500000    0.000000    2.000000   20.125000    0.000000   \n",
       "50%     446.000000    0.000000    3.000000   28.000000    0.000000   \n",
       "75%     668.500000    1.000000    3.000000   38.000000    1.000000   \n",
       "max     891.000000    1.000000    3.000000   80.000000    8.000000   \n",
       "\n",
       "            Parch        Fare  \n",
       "count  891.000000  891.000000  \n",
       "mean     0.381594   32.204208  \n",
       "std      0.806057   49.693429  \n",
       "min      0.000000    0.000000  \n",
       "25%      0.000000    7.910400  \n",
       "50%      0.000000   14.454200  \n",
       "75%      0.000000   31.000000  \n",
       "max      6.000000  512.329200  "
      ]
     },
     "execution_count": 2,
     "metadata": {},
     "output_type": "execute_result"
    }
   ],
   "source": [
    "train_data.describe()"
   ]
  },
  {
   "cell_type": "code",
   "execution_count": 3,
   "metadata": {},
   "outputs": [
    {
     "data": {
      "text/plain": [
       "array([0, 1, 1, 1, 0], dtype=int64)"
      ]
     },
     "execution_count": 3,
     "metadata": {},
     "output_type": "execute_result"
    }
   ],
   "source": [
    "# 取出 Label\n",
    "\n",
    "col_label = ['Survived']\n",
    "\n",
    "train_label_df = train_data[col_label].copy()\n",
    "train_label = train_label_df.values[:, 0]\n",
    "\n",
    "train_label[:5]"
   ]
  },
  {
   "cell_type": "code",
   "execution_count": 4,
   "metadata": {},
   "outputs": [
    {
     "data": {
      "text/plain": [
       "<matplotlib.axes._subplots.AxesSubplot at 0x19995cf8>"
      ]
     },
     "execution_count": 4,
     "metadata": {},
     "output_type": "execute_result"
    },
    {
     "data": {
      "image/png": "[encoded data removed]",
      "text/plain": [
       "<Figure size 432x288 with 1 Axes>"
      ]
     },
     "metadata": {
      "needs_background": "light"
     },
     "output_type": "display_data"
    }
   ],
   "source": [
    "sns.countplot(train_data['Survived'])"
   ]
  },
  {
   "cell_type": "code",
   "execution_count": 5,
   "metadata": {},
   "outputs": [
    {
     "data": {
      "text/html": [
       "<div>\n",
       "<style scoped>\n",
       "    .dataframe tbody tr th:only-of-type {\n",
       "        vertical-align: middle;\n",
       "    }\n",
       "\n",
       "    .dataframe tbody tr th {\n",
       "        vertical-align: top;\n",
       "    }\n",
       "\n",
       "    .dataframe thead th {\n",
       "        text-align: right;\n",
       "    }\n",
       "</style>\n",
       "<table border=\"1\" class=\"dataframe\">\n",
       "  <thead>\n",
       "    <tr style=\"text-align: right;\">\n",
       "      <th></th>\n",
       "      <th>Sex</th>\n",
       "      <th>Survived</th>\n",
       "    </tr>\n",
       "  </thead>\n",
       "  <tbody>\n",
       "    <tr>\n",
       "      <th>0</th>\n",
       "      <td>female</td>\n",
       "      <td>0.742</td>\n",
       "    </tr>\n",
       "    <tr>\n",
       "      <th>1</th>\n",
       "      <td>male</td>\n",
       "      <td>0.189</td>\n",
       "    </tr>\n",
       "  </tbody>\n",
       "</table>\n",
       "</div>"
      ],
      "text/plain": [
       "      Sex  Survived\n",
       "0  female     0.742\n",
       "1    male     0.189"
      ]
     },
     "metadata": {},
     "output_type": "display_data"
    },
    {
     "data": {
      "image/png": "[encoded data removed]",
      "text/plain": [
       "<Figure size 432x288 with 1 Axes>"
      ]
     },
     "metadata": {
      "needs_background": "light"
     },
     "output_type": "display_data"
    }
   ],
   "source": [
    "# Sex: 性別\n",
    "sns.countplot(train_data['Sex'], hue = train_data['Survived'])\n",
    "display(train_data[['Sex', 'Survived']].groupby(['Sex'], as_index=False).mean().round(3))"
   ]
  },
  {
   "cell_type": "code",
   "execution_count": 6,
   "metadata": {},
   "outputs": [
    {
     "data": {
      "text/html": [
       "<div>\n",
       "<style scoped>\n",
       "    .dataframe tbody tr th:only-of-type {\n",
       "        vertical-align: middle;\n",
       "    }\n",
       "\n",
       "    .dataframe tbody tr th {\n",
       "        vertical-align: top;\n",
       "    }\n",
       "\n",
       "    .dataframe thead th {\n",
       "        text-align: right;\n",
       "    }\n",
       "</style>\n",
       "<table border=\"1\" class=\"dataframe\">\n",
       "  <thead>\n",
       "    <tr style=\"text-align: right;\">\n",
       "      <th></th>\n",
       "      <th>Pclass</th>\n",
       "      <th>Survived</th>\n",
       "    </tr>\n",
       "  </thead>\n",
       "  <tbody>\n",
       "    <tr>\n",
       "      <th>0</th>\n",
       "      <td>1</td>\n",
       "      <td>0.630</td>\n",
       "    </tr>\n",
       "    <tr>\n",
       "      <th>1</th>\n",
       "      <td>2</td>\n",
       "      <td>0.473</td>\n",
       "    </tr>\n",
       "    <tr>\n",
       "      <th>2</th>\n",
       "      <td>3</td>\n",
       "      <td>0.242</td>\n",
       "    </tr>\n",
       "  </tbody>\n",
       "</table>\n",
       "</div>"
      ],
      "text/plain": [
       "   Pclass  Survived\n",
       "0       1     0.630\n",
       "1       2     0.473\n",
       "2       3     0.242"
      ]
     },
     "metadata": {},
     "output_type": "display_data"
    },
    {
     "data": {
      "image/png": "[encoded data removed]",
      "text/plain": [
       "<Figure size 432x288 with 1 Axes>"
      ]
     },
     "metadata": {
      "needs_background": "light"
     },
     "output_type": "display_data"
    }
   ],
   "source": [
    "# Pclass: 艙等\n",
    "sns.countplot(train_data['Pclass'], hue = train_data['Survived'])\n",
    "display(train_data[['Pclass', 'Survived']].groupby(['Pclass'], as_index=False).mean().round(3))"
   ]
  },
  {
   "cell_type": "code",
   "execution_count": 7,
   "metadata": {},
   "outputs": [
    {
     "data": {
      "text/html": [
       "<div>\n",
       "<style scoped>\n",
       "    .dataframe tbody tr th:only-of-type {\n",
       "        vertical-align: middle;\n",
       "    }\n",
       "\n",
       "    .dataframe tbody tr th {\n",
       "        vertical-align: top;\n",
       "    }\n",
       "\n",
       "    .dataframe thead th {\n",
       "        text-align: right;\n",
       "    }\n",
       "</style>\n",
       "<table border=\"1\" class=\"dataframe\">\n",
       "  <thead>\n",
       "    <tr style=\"text-align: right;\">\n",
       "      <th></th>\n",
       "      <th>Embarked</th>\n",
       "      <th>Survived</th>\n",
       "    </tr>\n",
       "  </thead>\n",
       "  <tbody>\n",
       "    <tr>\n",
       "      <th>0</th>\n",
       "      <td>C</td>\n",
       "      <td>0.554</td>\n",
       "    </tr>\n",
       "    <tr>\n",
       "      <th>1</th>\n",
       "      <td>Q</td>\n",
       "      <td>0.390</td>\n",
       "    </tr>\n",
       "    <tr>\n",
       "      <th>2</th>\n",
       "      <td>S</td>\n",
       "      <td>0.337</td>\n",
       "    </tr>\n",
       "  </tbody>\n",
       "</table>\n",
       "</div>"
      ],
      "text/plain": [
       "  Embarked  Survived\n",
       "0        C     0.554\n",
       "1        Q     0.390\n",
       "2        S     0.337"
      ]
     },
     "metadata": {},
     "output_type": "display_data"
    },
    {
     "data": {
      "image/png": "[encoded data removed]",
      "text/plain": [
       "<Figure size 432x288 with 1 Axes>"
      ]
     },
     "metadata": {
      "needs_background": "light"
     },
     "output_type": "display_data"
    }
   ],
   "source": [
    "# Embarked: 登船港口, C = Cherbourg, Q = Queenstown, S = Southampton\n",
    "\n",
    "col_target = 'Embarked'\n",
    "sns.countplot(train_data[col_target], hue = train_data['Survived'])\n",
    "display(train_data[[col_target, 'Survived']].groupby([col_target], as_index=False).mean().round(3))"
   ]
  },
  {
   "cell_type": "code",
   "execution_count": 8,
   "metadata": {},
   "outputs": [
    {
     "data": {
      "text/plain": [
       "<seaborn.axisgrid.FacetGrid at 0x1bb8edd8>"
      ]
     },
     "execution_count": 8,
     "metadata": {},
     "output_type": "execute_result"
    },
    {
     "data": {
      "image/png": "[encoded data removed]",
      "text/plain": [
       "<Figure size 432x216 with 2 Axes>"
      ]
     },
     "metadata": {
      "needs_background": "light"
     },
     "output_type": "display_data"
    }
   ],
   "source": [
    "# Age: 年齡\n",
    "\n",
    "g = sns.FacetGrid(train_data, col='Survived')\n",
    "g.map(sns.distplot, 'Age', kde=False)"
   ]
  },
  {
   "cell_type": "code",
   "execution_count": 9,
   "metadata": {},
   "outputs": [
    {
     "data": {
      "text/plain": [
       "<seaborn.axisgrid.FacetGrid at 0x1bc96ba8>"
      ]
     },
     "execution_count": 9,
     "metadata": {},
     "output_type": "execute_result"
    },
    {
     "data": {
      "image/png": "[encoded data removed]",
      "text/plain": [
       "<Figure size 432x216 with 2 Axes>"
      ]
     },
     "metadata": {
      "needs_background": "light"
     },
     "output_type": "display_data"
    }
   ],
   "source": [
    "# Fare: 旅客費用\n",
    "\n",
    "g = sns.FacetGrid(train_data, col='Survived')\n",
    "g.map(sns.distplot, 'Fare', kde=False)"
   ]
  },
  {
   "cell_type": "code",
   "execution_count": 10,
   "metadata": {},
   "outputs": [
    {
     "data": {
      "text/html": [
       "<div>\n",
       "<style scoped>\n",
       "    .dataframe tbody tr th:only-of-type {\n",
       "        vertical-align: middle;\n",
       "    }\n",
       "\n",
       "    .dataframe tbody tr th {\n",
       "        vertical-align: top;\n",
       "    }\n",
       "\n",
       "    .dataframe thead tr th {\n",
       "        text-align: left;\n",
       "    }\n",
       "\n",
       "    .dataframe thead tr:last-of-type th {\n",
       "        text-align: right;\n",
       "    }\n",
       "</style>\n",
       "<table border=\"1\" class=\"dataframe\">\n",
       "  <thead>\n",
       "    <tr>\n",
       "      <th></th>\n",
       "      <th colspan=\"2\" halign=\"left\">Fare</th>\n",
       "    </tr>\n",
       "    <tr>\n",
       "      <th>Survived</th>\n",
       "      <th>0</th>\n",
       "      <th>1</th>\n",
       "    </tr>\n",
       "    <tr>\n",
       "      <th>Pclass</th>\n",
       "      <th></th>\n",
       "      <th></th>\n",
       "    </tr>\n",
       "  </thead>\n",
       "  <tbody>\n",
       "    <tr>\n",
       "      <th>1</th>\n",
       "      <td>44.75</td>\n",
       "      <td>77.958</td>\n",
       "    </tr>\n",
       "    <tr>\n",
       "      <th>2</th>\n",
       "      <td>13.00</td>\n",
       "      <td>21.000</td>\n",
       "    </tr>\n",
       "    <tr>\n",
       "      <th>3</th>\n",
       "      <td>8.05</td>\n",
       "      <td>8.517</td>\n",
       "    </tr>\n",
       "  </tbody>\n",
       "</table>\n",
       "</div>"
      ],
      "text/plain": [
       "           Fare        \n",
       "Survived      0       1\n",
       "Pclass                 \n",
       "1         44.75  77.958\n",
       "2         13.00  21.000\n",
       "3          8.05   8.517"
      ]
     },
     "execution_count": 10,
     "metadata": {},
     "output_type": "execute_result"
    },
    {
     "data": {
      "image/png": "[encoded data removed]",
      "text/plain": [
       "<Figure size 1296x504 with 1 Axes>"
      ]
     },
     "metadata": {
      "needs_background": "light"
     },
     "output_type": "display_data"
    }
   ],
   "source": [
    "fig, ax = plt.subplots(figsize = (18,7))\n",
    "train_data['Log_Fare'] = (train_data['Fare']+1).map(lambda x: np.log(x) if x > 0 else 0)\n",
    "\n",
    "sns.boxplot(y='Pclass', x='Log_Fare', hue='Survived', \n",
    "            data=train_data, orient='h', ax=ax, palette='Set3')\n",
    "\n",
    "ax.set_title(' Log_Fare & Pclass vs Survived ', fontsize=20)\n",
    "\n",
    "pd.pivot_table(train_data, values=['Fare'], index=['Pclass'], columns=['Survived'], \n",
    "               aggfunc='median').round(3)"
   ]
  },
  {
   "cell_type": "code",
   "execution_count": 11,
   "metadata": {},
   "outputs": [
    {
     "data": {
      "text/plain": [
       "count      891\n",
       "unique     681\n",
       "top       1601\n",
       "freq         7\n",
       "Name: Ticket, dtype: object"
      ]
     },
     "execution_count": 11,
     "metadata": {},
     "output_type": "execute_result"
    }
   ],
   "source": [
    "# Ticket\n",
    "\n",
    "train_data['Ticket'].describe()"
   ]
  },
  {
   "cell_type": "code",
   "execution_count": 12,
   "metadata": {},
   "outputs": [
    {
     "data": {
      "text/plain": [
       "<seaborn.axisgrid.FacetGrid at 0x1bf7ccc0>"
      ]
     },
     "execution_count": 12,
     "metadata": {},
     "output_type": "execute_result"
    },
    {
     "data": {
      "image/png": "[encoded data removed]",
      "text/plain": [
       "<Figure size 432x216 with 2 Axes>"
      ]
     },
     "metadata": {
      "needs_background": "light"
     },
     "output_type": "display_data"
    }
   ],
   "source": [
    "# Parch: 雙親或子女也在船上的數量\n",
    "g = sns.FacetGrid(train_data, col='Survived')\n",
    "g.map(sns.distplot, 'Parch', kde=False)"
   ]
  },
  {
   "cell_type": "code",
   "execution_count": 13,
   "metadata": {},
   "outputs": [
    {
     "data": {
      "text/plain": [
       "<seaborn.axisgrid.FacetGrid at 0x1c46c4a8>"
      ]
     },
     "execution_count": 13,
     "metadata": {},
     "output_type": "execute_result"
    },
    {
     "data": {
      "image/png": "[encoded data removed]",
      "text/plain": [
       "<Figure size 432x216 with 2 Axes>"
      ]
     },
     "metadata": {
      "needs_background": "light"
     },
     "output_type": "display_data"
    }
   ],
   "source": [
    "# SibSP: 手足或配偶也在船上的數量\n",
    "g = sns.FacetGrid(train_data, col='Survived')\n",
    "g.map(sns.distplot, 'SibSp', kde=False)"
   ]
  },
  {
   "cell_type": "code",
   "execution_count": 14,
   "metadata": {},
   "outputs": [
    {
     "data": {
      "text/plain": [
       "<seaborn.axisgrid.FacetGrid at 0x1bcfa630>"
      ]
     },
     "execution_count": 14,
     "metadata": {},
     "output_type": "execute_result"
    },
    {
     "data": {
      "image/png": "[encoded data removed]",
      "text/plain": [
       "<Figure size 432x216 with 2 Axes>"
      ]
     },
     "metadata": {
      "needs_background": "light"
     },
     "output_type": "display_data"
    }
   ],
   "source": [
    "# Family_Size: 家庭大小 = Parch + SibSp\n",
    "train_data['Family_Size'] = train_data['Parch'] + train_data['SibSp'] + 1\n",
    "\n",
    "g = sns.FacetGrid(train_data, col='Survived')\n",
    "g.map(sns.distplot, 'Family_Size', kde=False)"
   ]
  },
  {
   "cell_type": "code",
   "execution_count": 15,
   "metadata": {},
   "outputs": [
    {
     "data": {
      "text/plain": [
       "array(['Mr', 'Mrs', 'Miss', 'Master', 'Don', 'Rev', 'Dr', 'Mme', 'Ms',\n",
       "       'Major', 'Lady', 'Sir', 'Mlle', 'Col', 'Capt', 'the Countess',\n",
       "       'Jonkheer'], dtype=object)"
      ]
     },
     "execution_count": 15,
     "metadata": {},
     "output_type": "execute_result"
    }
   ],
   "source": [
    "# Name\n",
    "\n",
    "train_data['Title1'] = train_data['Name'].str.split(', ', expand=True)[1]\n",
    "# train_data['Title1'].head()\n",
    "\n",
    "train_data['Title1'] = train_data['Title1'].str.split('.', expand=True)[0]\n",
    "# train_data['Title1'].head()\n",
    "\n",
    "train_data['Title1'].unique()"
   ]
  },
  {
   "cell_type": "code",
   "execution_count": 16,
   "metadata": {},
   "outputs": [
    {
     "data": {
      "text/html": [
       "<style  type=\"text/css\" >\n",
       "    #T_da5592c0_32c8_11e9_a402_ea5f6f418d41row0_col0 {\n",
       "            background-color:  #ffff66;\n",
       "        }    #T_da5592c0_32c8_11e9_a402_ea5f6f418d41row0_col1 {\n",
       "            background-color:  #ffff66;\n",
       "        }    #T_da5592c0_32c8_11e9_a402_ea5f6f418d41row0_col2 {\n",
       "            background-color:  #ffff66;\n",
       "        }    #T_da5592c0_32c8_11e9_a402_ea5f6f418d41row0_col3 {\n",
       "            background-color:  #ffff66;\n",
       "        }    #T_da5592c0_32c8_11e9_a402_ea5f6f418d41row0_col4 {\n",
       "            background-color:  #ffff66;\n",
       "        }    #T_da5592c0_32c8_11e9_a402_ea5f6f418d41row0_col5 {\n",
       "            background-color:  #008066;\n",
       "        }    #T_da5592c0_32c8_11e9_a402_ea5f6f418d41row0_col6 {\n",
       "            background-color:  #ffff66;\n",
       "        }    #T_da5592c0_32c8_11e9_a402_ea5f6f418d41row0_col7 {\n",
       "            background-color:  #ffff66;\n",
       "        }    #T_da5592c0_32c8_11e9_a402_ea5f6f418d41row0_col8 {\n",
       "            background-color:  #008066;\n",
       "        }    #T_da5592c0_32c8_11e9_a402_ea5f6f418d41row0_col9 {\n",
       "            background-color:  #008066;\n",
       "        }    #T_da5592c0_32c8_11e9_a402_ea5f6f418d41row0_col10 {\n",
       "            background-color:  #008066;\n",
       "        }    #T_da5592c0_32c8_11e9_a402_ea5f6f418d41row0_col11 {\n",
       "            background-color:  #ffff66;\n",
       "        }    #T_da5592c0_32c8_11e9_a402_ea5f6f418d41row0_col12 {\n",
       "            background-color:  #008066;\n",
       "        }    #T_da5592c0_32c8_11e9_a402_ea5f6f418d41row0_col13 {\n",
       "            background-color:  #008066;\n",
       "        }    #T_da5592c0_32c8_11e9_a402_ea5f6f418d41row0_col14 {\n",
       "            background-color:  #ffff66;\n",
       "        }    #T_da5592c0_32c8_11e9_a402_ea5f6f418d41row0_col15 {\n",
       "            background-color:  #ffff66;\n",
       "        }    #T_da5592c0_32c8_11e9_a402_ea5f6f418d41row0_col16 {\n",
       "            background-color:  #008066;\n",
       "        }    #T_da5592c0_32c8_11e9_a402_ea5f6f418d41row1_col0 {\n",
       "            background-color:  #008066;\n",
       "        }    #T_da5592c0_32c8_11e9_a402_ea5f6f418d41row1_col1 {\n",
       "            background-color:  #008066;\n",
       "        }    #T_da5592c0_32c8_11e9_a402_ea5f6f418d41row1_col2 {\n",
       "            background-color:  #008066;\n",
       "        }    #T_da5592c0_32c8_11e9_a402_ea5f6f418d41row1_col3 {\n",
       "            background-color:  #008066;\n",
       "        }    #T_da5592c0_32c8_11e9_a402_ea5f6f418d41row1_col4 {\n",
       "            background-color:  #008066;\n",
       "        }    #T_da5592c0_32c8_11e9_a402_ea5f6f418d41row1_col5 {\n",
       "            background-color:  #ffff66;\n",
       "        }    #T_da5592c0_32c8_11e9_a402_ea5f6f418d41row1_col6 {\n",
       "            background-color:  #008066;\n",
       "        }    #T_da5592c0_32c8_11e9_a402_ea5f6f418d41row1_col7 {\n",
       "            background-color:  #008066;\n",
       "        }    #T_da5592c0_32c8_11e9_a402_ea5f6f418d41row1_col8 {\n",
       "            background-color:  #ffff66;\n",
       "        }    #T_da5592c0_32c8_11e9_a402_ea5f6f418d41row1_col9 {\n",
       "            background-color:  #ffff66;\n",
       "        }    #T_da5592c0_32c8_11e9_a402_ea5f6f418d41row1_col10 {\n",
       "            background-color:  #ffff66;\n",
       "        }    #T_da5592c0_32c8_11e9_a402_ea5f6f418d41row1_col11 {\n",
       "            background-color:  #008066;\n",
       "        }    #T_da5592c0_32c8_11e9_a402_ea5f6f418d41row1_col12 {\n",
       "            background-color:  #ffff66;\n",
       "        }    #T_da5592c0_32c8_11e9_a402_ea5f6f418d41row1_col13 {\n",
       "            background-color:  #ffff66;\n",
       "        }    #T_da5592c0_32c8_11e9_a402_ea5f6f418d41row1_col14 {\n",
       "            background-color:  #008066;\n",
       "        }    #T_da5592c0_32c8_11e9_a402_ea5f6f418d41row1_col15 {\n",
       "            background-color:  #008066;\n",
       "        }    #T_da5592c0_32c8_11e9_a402_ea5f6f418d41row1_col16 {\n",
       "            background-color:  #ffff66;\n",
       "        }</style>  \n",
       "<table id=\"T_da5592c0_32c8_11e9_a402_ea5f6f418d41\" > \n",
       "<thead>    <tr> \n",
       "        <th class=\"index_name level0\" >Title1</th> \n",
       "        <th class=\"col_heading level0 col0\" >Capt</th> \n",
       "        <th class=\"col_heading level0 col1\" >Col</th> \n",
       "        <th class=\"col_heading level0 col2\" >Don</th> \n",
       "        <th class=\"col_heading level0 col3\" >Dr</th> \n",
       "        <th class=\"col_heading level0 col4\" >Jonkheer</th> \n",
       "        <th class=\"col_heading level0 col5\" >Lady</th> \n",
       "        <th class=\"col_heading level0 col6\" >Major</th> \n",
       "        <th class=\"col_heading level0 col7\" >Master</th> \n",
       "        <th class=\"col_heading level0 col8\" >Miss</th> \n",
       "        <th class=\"col_heading level0 col9\" >Mlle</th> \n",
       "        <th class=\"col_heading level0 col10\" >Mme</th> \n",
       "        <th class=\"col_heading level0 col11\" >Mr</th> \n",
       "        <th class=\"col_heading level0 col12\" >Mrs</th> \n",
       "        <th class=\"col_heading level0 col13\" >Ms</th> \n",
       "        <th class=\"col_heading level0 col14\" >Rev</th> \n",
       "        <th class=\"col_heading level0 col15\" >Sir</th> \n",
       "        <th class=\"col_heading level0 col16\" >the Countess</th> \n",
       "    </tr>    <tr> \n",
       "        <th class=\"index_name level0\" >Sex</th> \n",
       "        <th class=\"blank\" ></th> \n",
       "        <th class=\"blank\" ></th> \n",
       "        <th class=\"blank\" ></th> \n",
       "        <th class=\"blank\" ></th> \n",
       "        <th class=\"blank\" ></th> \n",
       "        <th class=\"blank\" ></th> \n",
       "        <th class=\"blank\" ></th> \n",
       "        <th class=\"blank\" ></th> \n",
       "        <th class=\"blank\" ></th> \n",
       "        <th class=\"blank\" ></th> \n",
       "        <th class=\"blank\" ></th> \n",
       "        <th class=\"blank\" ></th> \n",
       "        <th class=\"blank\" ></th> \n",
       "        <th class=\"blank\" ></th> \n",
       "        <th class=\"blank\" ></th> \n",
       "        <th class=\"blank\" ></th> \n",
       "        <th class=\"blank\" ></th> \n",
       "    </tr></thead> \n",
       "<tbody>    <tr> \n",
       "        <th id=\"T_da5592c0_32c8_11e9_a402_ea5f6f418d41level0_row0\" class=\"row_heading level0 row0\" >female</th> \n",
       "        <td id=\"T_da5592c0_32c8_11e9_a402_ea5f6f418d41row0_col0\" class=\"data row0 col0\" >0</td> \n",
       "        <td id=\"T_da5592c0_32c8_11e9_a402_ea5f6f418d41row0_col1\" class=\"data row0 col1\" >0</td> \n",
       "        <td id=\"T_da5592c0_32c8_11e9_a402_ea5f6f418d41row0_col2\" class=\"data row0 col2\" >0</td> \n",
       "        <td id=\"T_da5592c0_32c8_11e9_a402_ea5f6f418d41row0_col3\" class=\"data row0 col3\" >1</td> \n",
       "        <td id=\"T_da5592c0_32c8_11e9_a402_ea5f6f418d41row0_col4\" class=\"data row0 col4\" >0</td> \n",
       "        <td id=\"T_da5592c0_32c8_11e9_a402_ea5f6f418d41row0_col5\" class=\"data row0 col5\" >1</td> \n",
       "        <td id=\"T_da5592c0_32c8_11e9_a402_ea5f6f418d41row0_col6\" class=\"data row0 col6\" >0</td> \n",
       "        <td id=\"T_da5592c0_32c8_11e9_a402_ea5f6f418d41row0_col7\" class=\"data row0 col7\" >0</td> \n",
       "        <td id=\"T_da5592c0_32c8_11e9_a402_ea5f6f418d41row0_col8\" class=\"data row0 col8\" >182</td> \n",
       "        <td id=\"T_da5592c0_32c8_11e9_a402_ea5f6f418d41row0_col9\" class=\"data row0 col9\" >2</td> \n",
       "        <td id=\"T_da5592c0_32c8_11e9_a402_ea5f6f418d41row0_col10\" class=\"data row0 col10\" >1</td> \n",
       "        <td id=\"T_da5592c0_32c8_11e9_a402_ea5f6f418d41row0_col11\" class=\"data row0 col11\" >0</td> \n",
       "        <td id=\"T_da5592c0_32c8_11e9_a402_ea5f6f418d41row0_col12\" class=\"data row0 col12\" >125</td> \n",
       "        <td id=\"T_da5592c0_32c8_11e9_a402_ea5f6f418d41row0_col13\" class=\"data row0 col13\" >1</td> \n",
       "        <td id=\"T_da5592c0_32c8_11e9_a402_ea5f6f418d41row0_col14\" class=\"data row0 col14\" >0</td> \n",
       "        <td id=\"T_da5592c0_32c8_11e9_a402_ea5f6f418d41row0_col15\" class=\"data row0 col15\" >0</td> \n",
       "        <td id=\"T_da5592c0_32c8_11e9_a402_ea5f6f418d41row0_col16\" class=\"data row0 col16\" >1</td> \n",
       "    </tr>    <tr> \n",
       "        <th id=\"T_da5592c0_32c8_11e9_a402_ea5f6f418d41level0_row1\" class=\"row_heading level0 row1\" >male</th> \n",
       "        <td id=\"T_da5592c0_32c8_11e9_a402_ea5f6f418d41row1_col0\" class=\"data row1 col0\" >1</td> \n",
       "        <td id=\"T_da5592c0_32c8_11e9_a402_ea5f6f418d41row1_col1\" class=\"data row1 col1\" >2</td> \n",
       "        <td id=\"T_da5592c0_32c8_11e9_a402_ea5f6f418d41row1_col2\" class=\"data row1 col2\" >1</td> \n",
       "        <td id=\"T_da5592c0_32c8_11e9_a402_ea5f6f418d41row1_col3\" class=\"data row1 col3\" >6</td> \n",
       "        <td id=\"T_da5592c0_32c8_11e9_a402_ea5f6f418d41row1_col4\" class=\"data row1 col4\" >1</td> \n",
       "        <td id=\"T_da5592c0_32c8_11e9_a402_ea5f6f418d41row1_col5\" class=\"data row1 col5\" >0</td> \n",
       "        <td id=\"T_da5592c0_32c8_11e9_a402_ea5f6f418d41row1_col6\" class=\"data row1 col6\" >2</td> \n",
       "        <td id=\"T_da5592c0_32c8_11e9_a402_ea5f6f418d41row1_col7\" class=\"data row1 col7\" >40</td> \n",
       "        <td id=\"T_da5592c0_32c8_11e9_a402_ea5f6f418d41row1_col8\" class=\"data row1 col8\" >0</td> \n",
       "        <td id=\"T_da5592c0_32c8_11e9_a402_ea5f6f418d41row1_col9\" class=\"data row1 col9\" >0</td> \n",
       "        <td id=\"T_da5592c0_32c8_11e9_a402_ea5f6f418d41row1_col10\" class=\"data row1 col10\" >0</td> \n",
       "        <td id=\"T_da5592c0_32c8_11e9_a402_ea5f6f418d41row1_col11\" class=\"data row1 col11\" >517</td> \n",
       "        <td id=\"T_da5592c0_32c8_11e9_a402_ea5f6f418d41row1_col12\" class=\"data row1 col12\" >0</td> \n",
       "        <td id=\"T_da5592c0_32c8_11e9_a402_ea5f6f418d41row1_col13\" class=\"data row1 col13\" >0</td> \n",
       "        <td id=\"T_da5592c0_32c8_11e9_a402_ea5f6f418d41row1_col14\" class=\"data row1 col14\" >6</td> \n",
       "        <td id=\"T_da5592c0_32c8_11e9_a402_ea5f6f418d41row1_col15\" class=\"data row1 col15\" >1</td> \n",
       "        <td id=\"T_da5592c0_32c8_11e9_a402_ea5f6f418d41row1_col16\" class=\"data row1 col16\" >0</td> \n",
       "    </tr></tbody> \n",
       "</table> "
      ],
      "text/plain": [
       "<pandas.io.formats.style.Styler at 0x1bb439e8>"
      ]
     },
     "execution_count": 16,
     "metadata": {},
     "output_type": "execute_result"
    }
   ],
   "source": [
    "pd.crosstab(train_data['Title1'], train_data['Sex']).T.style.background_gradient(cmap='summer_r')"
   ]
  },
  {
   "cell_type": "code",
   "execution_count": 17,
   "metadata": {},
   "outputs": [
    {
     "data": {
      "text/html": [
       "<style  type=\"text/css\" >\n",
       "    #T_da5bad40_32c8_11e9_8e69_ea5f6f418d41row0_col0 {\n",
       "            background-color:  #ffff66;\n",
       "        }    #T_da5bad40_32c8_11e9_8e69_ea5f6f418d41row0_col1 {\n",
       "            background-color:  #ffff66;\n",
       "        }    #T_da5bad40_32c8_11e9_8e69_ea5f6f418d41row0_col2 {\n",
       "            background-color:  #008066;\n",
       "        }    #T_da5bad40_32c8_11e9_8e69_ea5f6f418d41row0_col3 {\n",
       "            background-color:  #ffff66;\n",
       "        }    #T_da5bad40_32c8_11e9_8e69_ea5f6f418d41row0_col4 {\n",
       "            background-color:  #008066;\n",
       "        }    #T_da5bad40_32c8_11e9_8e69_ea5f6f418d41row1_col0 {\n",
       "            background-color:  #008066;\n",
       "        }    #T_da5bad40_32c8_11e9_8e69_ea5f6f418d41row1_col1 {\n",
       "            background-color:  #008066;\n",
       "        }    #T_da5bad40_32c8_11e9_8e69_ea5f6f418d41row1_col2 {\n",
       "            background-color:  #ffff66;\n",
       "        }    #T_da5bad40_32c8_11e9_8e69_ea5f6f418d41row1_col3 {\n",
       "            background-color:  #008066;\n",
       "        }    #T_da5bad40_32c8_11e9_8e69_ea5f6f418d41row1_col4 {\n",
       "            background-color:  #ffff66;\n",
       "        }</style>  \n",
       "<table id=\"T_da5bad40_32c8_11e9_8e69_ea5f6f418d41\" > \n",
       "<thead>    <tr> \n",
       "        <th class=\"index_name level0\" >Title2</th> \n",
       "        <th class=\"col_heading level0 col0\" >Dr</th> \n",
       "        <th class=\"col_heading level0 col1\" >Master</th> \n",
       "        <th class=\"col_heading level0 col2\" >Miss</th> \n",
       "        <th class=\"col_heading level0 col3\" >Mr</th> \n",
       "        <th class=\"col_heading level0 col4\" >Mrs</th> \n",
       "    </tr>    <tr> \n",
       "        <th class=\"index_name level0\" >Sex</th> \n",
       "        <th class=\"blank\" ></th> \n",
       "        <th class=\"blank\" ></th> \n",
       "        <th class=\"blank\" ></th> \n",
       "        <th class=\"blank\" ></th> \n",
       "        <th class=\"blank\" ></th> \n",
       "    </tr></thead> \n",
       "<tbody>    <tr> \n",
       "        <th id=\"T_da5bad40_32c8_11e9_8e69_ea5f6f418d41level0_row0\" class=\"row_heading level0 row0\" >female</th> \n",
       "        <td id=\"T_da5bad40_32c8_11e9_8e69_ea5f6f418d41row0_col0\" class=\"data row0 col0\" >1</td> \n",
       "        <td id=\"T_da5bad40_32c8_11e9_8e69_ea5f6f418d41row0_col1\" class=\"data row0 col1\" >0</td> \n",
       "        <td id=\"T_da5bad40_32c8_11e9_8e69_ea5f6f418d41row0_col2\" class=\"data row0 col2\" >185</td> \n",
       "        <td id=\"T_da5bad40_32c8_11e9_8e69_ea5f6f418d41row0_col3\" class=\"data row0 col3\" >0</td> \n",
       "        <td id=\"T_da5bad40_32c8_11e9_8e69_ea5f6f418d41row0_col4\" class=\"data row0 col4\" >128</td> \n",
       "    </tr>    <tr> \n",
       "        <th id=\"T_da5bad40_32c8_11e9_8e69_ea5f6f418d41level0_row1\" class=\"row_heading level0 row1\" >male</th> \n",
       "        <td id=\"T_da5bad40_32c8_11e9_8e69_ea5f6f418d41row1_col0\" class=\"data row1 col0\" >6</td> \n",
       "        <td id=\"T_da5bad40_32c8_11e9_8e69_ea5f6f418d41row1_col1\" class=\"data row1 col1\" >40</td> \n",
       "        <td id=\"T_da5bad40_32c8_11e9_8e69_ea5f6f418d41row1_col2\" class=\"data row1 col2\" >0</td> \n",
       "        <td id=\"T_da5bad40_32c8_11e9_8e69_ea5f6f418d41row1_col3\" class=\"data row1 col3\" >531</td> \n",
       "        <td id=\"T_da5bad40_32c8_11e9_8e69_ea5f6f418d41row1_col4\" class=\"data row1 col4\" >0</td> \n",
       "    </tr></tbody> \n",
       "</table> "
      ],
      "text/plain": [
       "<pandas.io.formats.style.Styler at 0x1fd05a90>"
      ]
     },
     "execution_count": 17,
     "metadata": {},
     "output_type": "execute_result"
    }
   ],
   "source": [
    "train_data['Title2'] = train_data['Title1'].replace(\n",
    "  ['Mlle','Mme','Ms',  'Dr','Major','Lady','the Countess','Jonkheer','Col','Rev','Capt','Sir','Don','Dona'],\n",
    "  ['Miss','Mrs','Miss','Dr','Mr',   'Mrs', 'Mrs',         'Mr',      'Mr', 'Mr', 'Mr',  'Mr', 'Mr', 'Mrs']\n",
    ")\n",
    "\n",
    "pd.crosstab(train_data['Title2'], train_data['Sex']).T.style.background_gradient(cmap='summer_r')"
   ]
  },
  {
   "cell_type": "code",
   "execution_count": 18,
   "metadata": {},
   "outputs": [
    {
     "data": {
      "text/plain": [
       "0     NaN\n",
       "1     C85\n",
       "2     NaN\n",
       "3    C123\n",
       "4     NaN\n",
       "5     NaN\n",
       "6     E46\n",
       "7     NaN\n",
       "8     NaN\n",
       "9     NaN\n",
       "Name: Cabin, dtype: object"
      ]
     },
     "execution_count": 18,
     "metadata": {},
     "output_type": "execute_result"
    }
   ],
   "source": [
    "train_data['Cabin'].head(10)"
   ]
  },
  {
   "cell_type": "code",
   "execution_count": 19,
   "metadata": {},
   "outputs": [
    {
     "data": {
      "text/plain": [
       "array(['NoCabin', 'C', 'E', 'G', 'D', 'A', 'B', 'F', 'T'], dtype=object)"
      ]
     },
     "execution_count": 19,
     "metadata": {},
     "output_type": "execute_result"
    }
   ],
   "source": [
    "# Carbin\n",
    "\n",
    "train_data['Cabin'] = train_data['Cabin'].apply(lambda x: str(x)[0] if not pd.isnull(x) else 'NoCabin')\n",
    "train_data['Cabin'].unique()"
   ]
  },
  {
   "cell_type": "code",
   "execution_count": 20,
   "metadata": {},
   "outputs": [
    {
     "data": {
      "text/plain": [
       "<matplotlib.axes._subplots.AxesSubplot at 0x19939978>"
      ]
     },
     "execution_count": 20,
     "metadata": {},
     "output_type": "execute_result"
    },
    {
     "data": {
      "image/png": "[encoded data removed]",
      "text/plain": [
       "<Figure size 432x288 with 1 Axes>"
      ]
     },
     "metadata": {
      "needs_background": "light"
     },
     "output_type": "display_data"
    }
   ],
   "source": [
    "sns.countplot(train_data['Cabin'], hue=train_data['Survived'])"
   ]
  },
  {
   "cell_type": "code",
   "execution_count": 21,
   "metadata": {},
   "outputs": [
    {
     "data": {
      "text/html": [
       "<div>\n",
       "<style scoped>\n",
       "    .dataframe tbody tr th:only-of-type {\n",
       "        vertical-align: middle;\n",
       "    }\n",
       "\n",
       "    .dataframe tbody tr th {\n",
       "        vertical-align: top;\n",
       "    }\n",
       "\n",
       "    .dataframe thead th {\n",
       "        text-align: right;\n",
       "    }\n",
       "</style>\n",
       "<table border=\"1\" class=\"dataframe\">\n",
       "  <thead>\n",
       "    <tr style=\"text-align: right;\">\n",
       "      <th></th>\n",
       "      <th>PassengerId</th>\n",
       "      <th>Survived</th>\n",
       "      <th>Pclass</th>\n",
       "      <th>Name</th>\n",
       "      <th>Sex</th>\n",
       "      <th>Age</th>\n",
       "      <th>SibSp</th>\n",
       "      <th>Parch</th>\n",
       "      <th>Ticket</th>\n",
       "      <th>Fare</th>\n",
       "      <th>Cabin</th>\n",
       "      <th>Embarked</th>\n",
       "      <th>Log_Fare</th>\n",
       "      <th>Family_Size</th>\n",
       "      <th>Title1</th>\n",
       "      <th>Title2</th>\n",
       "    </tr>\n",
       "  </thead>\n",
       "  <tbody>\n",
       "    <tr>\n",
       "      <th>0</th>\n",
       "      <td>1</td>\n",
       "      <td>0</td>\n",
       "      <td>3</td>\n",
       "      <td>Braund, Mr. Owen Harris</td>\n",
       "      <td>male</td>\n",
       "      <td>22.0</td>\n",
       "      <td>1</td>\n",
       "      <td>0</td>\n",
       "      <td>A/5 21171</td>\n",
       "      <td>7.2500</td>\n",
       "      <td>NoCabin</td>\n",
       "      <td>S</td>\n",
       "      <td>2.110213</td>\n",
       "      <td>2</td>\n",
       "      <td>Mr</td>\n",
       "      <td>Mr</td>\n",
       "    </tr>\n",
       "    <tr>\n",
       "      <th>1</th>\n",
       "      <td>2</td>\n",
       "      <td>1</td>\n",
       "      <td>1</td>\n",
       "      <td>Cumings, Mrs. John Bradley (Florence Briggs Th...</td>\n",
       "      <td>female</td>\n",
       "      <td>38.0</td>\n",
       "      <td>1</td>\n",
       "      <td>0</td>\n",
       "      <td>PC 17599</td>\n",
       "      <td>71.2833</td>\n",
       "      <td>C</td>\n",
       "      <td>C</td>\n",
       "      <td>4.280593</td>\n",
       "      <td>2</td>\n",
       "      <td>Mrs</td>\n",
       "      <td>Mrs</td>\n",
       "    </tr>\n",
       "    <tr>\n",
       "      <th>2</th>\n",
       "      <td>3</td>\n",
       "      <td>1</td>\n",
       "      <td>3</td>\n",
       "      <td>Heikkinen, Miss. Laina</td>\n",
       "      <td>female</td>\n",
       "      <td>26.0</td>\n",
       "      <td>0</td>\n",
       "      <td>0</td>\n",
       "      <td>STON/O2. 3101282</td>\n",
       "      <td>7.9250</td>\n",
       "      <td>NoCabin</td>\n",
       "      <td>S</td>\n",
       "      <td>2.188856</td>\n",
       "      <td>1</td>\n",
       "      <td>Miss</td>\n",
       "      <td>Miss</td>\n",
       "    </tr>\n",
       "    <tr>\n",
       "      <th>3</th>\n",
       "      <td>4</td>\n",
       "      <td>1</td>\n",
       "      <td>1</td>\n",
       "      <td>Futrelle, Mrs. Jacques Heath (Lily May Peel)</td>\n",
       "      <td>female</td>\n",
       "      <td>35.0</td>\n",
       "      <td>1</td>\n",
       "      <td>0</td>\n",
       "      <td>113803</td>\n",
       "      <td>53.1000</td>\n",
       "      <td>C</td>\n",
       "      <td>S</td>\n",
       "      <td>3.990834</td>\n",
       "      <td>2</td>\n",
       "      <td>Mrs</td>\n",
       "      <td>Mrs</td>\n",
       "    </tr>\n",
       "    <tr>\n",
       "      <th>4</th>\n",
       "      <td>5</td>\n",
       "      <td>0</td>\n",
       "      <td>3</td>\n",
       "      <td>Allen, Mr. William Henry</td>\n",
       "      <td>male</td>\n",
       "      <td>35.0</td>\n",
       "      <td>0</td>\n",
       "      <td>0</td>\n",
       "      <td>373450</td>\n",
       "      <td>8.0500</td>\n",
       "      <td>NoCabin</td>\n",
       "      <td>S</td>\n",
       "      <td>2.202765</td>\n",
       "      <td>1</td>\n",
       "      <td>Mr</td>\n",
       "      <td>Mr</td>\n",
       "    </tr>\n",
       "  </tbody>\n",
       "</table>\n",
       "</div>"
      ],
      "text/plain": [
       "   PassengerId  Survived  Pclass  \\\n",
       "0            1         0       3   \n",
       "1            2         1       1   \n",
       "2            3         1       3   \n",
       "3            4         1       1   \n",
       "4            5         0       3   \n",
       "\n",
       "                                                Name     Sex   Age  SibSp  \\\n",
       "0                            Braund, Mr. Owen Harris    male  22.0      1   \n",
       "1  Cumings, Mrs. John Bradley (Florence Briggs Th...  female  38.0      1   \n",
       "2                             Heikkinen, Miss. Laina  female  26.0      0   \n",
       "3       Futrelle, Mrs. Jacques Heath (Lily May Peel)  female  35.0      1   \n",
       "4                           Allen, Mr. William Henry    male  35.0      0   \n",
       "\n",
       "   Parch            Ticket     Fare    Cabin Embarked  Log_Fare  Family_Size  \\\n",
       "0      0         A/5 21171   7.2500  NoCabin        S  2.110213            2   \n",
       "1      0          PC 17599  71.2833        C        C  4.280593            2   \n",
       "2      0  STON/O2. 3101282   7.9250  NoCabin        S  2.188856            1   \n",
       "3      0            113803  53.1000        C        S  3.990834            2   \n",
       "4      0            373450   8.0500  NoCabin        S  2.202765            1   \n",
       "\n",
       "  Title1 Title2  \n",
       "0     Mr     Mr  \n",
       "1    Mrs    Mrs  \n",
       "2   Miss   Miss  \n",
       "3    Mrs    Mrs  \n",
       "4     Mr     Mr  "
      ]
     },
     "execution_count": 21,
     "metadata": {},
     "output_type": "execute_result"
    }
   ],
   "source": [
    "train_data.head(5)"
   ]
  },
  {
   "cell_type": "code",
   "execution_count": 22,
   "metadata": {},
   "outputs": [
    {
     "data": {
      "text/html": [
       "<div>\n",
       "<style scoped>\n",
       "    .dataframe tbody tr th:only-of-type {\n",
       "        vertical-align: middle;\n",
       "    }\n",
       "\n",
       "    .dataframe tbody tr th {\n",
       "        vertical-align: top;\n",
       "    }\n",
       "\n",
       "    .dataframe thead th {\n",
       "        text-align: right;\n",
       "    }\n",
       "</style>\n",
       "<table border=\"1\" class=\"dataframe\">\n",
       "  <thead>\n",
       "    <tr style=\"text-align: right;\">\n",
       "      <th></th>\n",
       "      <th>PassengerId</th>\n",
       "      <th>Survived</th>\n",
       "      <th>Pclass</th>\n",
       "      <th>Name</th>\n",
       "      <th>Sex</th>\n",
       "      <th>Age</th>\n",
       "      <th>SibSp</th>\n",
       "      <th>Parch</th>\n",
       "      <th>Ticket</th>\n",
       "      <th>Fare</th>\n",
       "      <th>Cabin</th>\n",
       "      <th>Embarked</th>\n",
       "      <th>Log_Fare</th>\n",
       "      <th>Family_Size</th>\n",
       "      <th>Title1</th>\n",
       "      <th>Title2</th>\n",
       "    </tr>\n",
       "  </thead>\n",
       "  <tbody>\n",
       "    <tr>\n",
       "      <th>0</th>\n",
       "      <td>1</td>\n",
       "      <td>0</td>\n",
       "      <td>2</td>\n",
       "      <td>Braund, Mr. Owen Harris</td>\n",
       "      <td>male</td>\n",
       "      <td>22.0</td>\n",
       "      <td>1</td>\n",
       "      <td>0</td>\n",
       "      <td>A/5 21171</td>\n",
       "      <td>7.2500</td>\n",
       "      <td>7</td>\n",
       "      <td>S</td>\n",
       "      <td>2.110213</td>\n",
       "      <td>2</td>\n",
       "      <td>Mr</td>\n",
       "      <td>3</td>\n",
       "    </tr>\n",
       "    <tr>\n",
       "      <th>1</th>\n",
       "      <td>2</td>\n",
       "      <td>1</td>\n",
       "      <td>0</td>\n",
       "      <td>Cumings, Mrs. John Bradley (Florence Briggs Th...</td>\n",
       "      <td>female</td>\n",
       "      <td>38.0</td>\n",
       "      <td>1</td>\n",
       "      <td>0</td>\n",
       "      <td>PC 17599</td>\n",
       "      <td>71.2833</td>\n",
       "      <td>2</td>\n",
       "      <td>C</td>\n",
       "      <td>4.280593</td>\n",
       "      <td>2</td>\n",
       "      <td>Mrs</td>\n",
       "      <td>4</td>\n",
       "    </tr>\n",
       "    <tr>\n",
       "      <th>2</th>\n",
       "      <td>3</td>\n",
       "      <td>1</td>\n",
       "      <td>2</td>\n",
       "      <td>Heikkinen, Miss. Laina</td>\n",
       "      <td>female</td>\n",
       "      <td>26.0</td>\n",
       "      <td>0</td>\n",
       "      <td>0</td>\n",
       "      <td>STON/O2. 3101282</td>\n",
       "      <td>7.9250</td>\n",
       "      <td>7</td>\n",
       "      <td>S</td>\n",
       "      <td>2.188856</td>\n",
       "      <td>1</td>\n",
       "      <td>Miss</td>\n",
       "      <td>2</td>\n",
       "    </tr>\n",
       "    <tr>\n",
       "      <th>3</th>\n",
       "      <td>4</td>\n",
       "      <td>1</td>\n",
       "      <td>0</td>\n",
       "      <td>Futrelle, Mrs. Jacques Heath (Lily May Peel)</td>\n",
       "      <td>female</td>\n",
       "      <td>35.0</td>\n",
       "      <td>1</td>\n",
       "      <td>0</td>\n",
       "      <td>113803</td>\n",
       "      <td>53.1000</td>\n",
       "      <td>2</td>\n",
       "      <td>S</td>\n",
       "      <td>3.990834</td>\n",
       "      <td>2</td>\n",
       "      <td>Mrs</td>\n",
       "      <td>4</td>\n",
       "    </tr>\n",
       "    <tr>\n",
       "      <th>4</th>\n",
       "      <td>5</td>\n",
       "      <td>0</td>\n",
       "      <td>2</td>\n",
       "      <td>Allen, Mr. William Henry</td>\n",
       "      <td>male</td>\n",
       "      <td>35.0</td>\n",
       "      <td>0</td>\n",
       "      <td>0</td>\n",
       "      <td>373450</td>\n",
       "      <td>8.0500</td>\n",
       "      <td>7</td>\n",
       "      <td>S</td>\n",
       "      <td>2.202765</td>\n",
       "      <td>1</td>\n",
       "      <td>Mr</td>\n",
       "      <td>3</td>\n",
       "    </tr>\n",
       "  </tbody>\n",
       "</table>\n",
       "</div>"
      ],
      "text/plain": [
       "   PassengerId  Survived  Pclass  \\\n",
       "0            1         0       2   \n",
       "1            2         1       0   \n",
       "2            3         1       2   \n",
       "3            4         1       0   \n",
       "4            5         0       2   \n",
       "\n",
       "                                                Name     Sex   Age  SibSp  \\\n",
       "0                            Braund, Mr. Owen Harris    male  22.0      1   \n",
       "1  Cumings, Mrs. John Bradley (Florence Briggs Th...  female  38.0      1   \n",
       "2                             Heikkinen, Miss. Laina  female  26.0      0   \n",
       "3       Futrelle, Mrs. Jacques Heath (Lily May Peel)  female  35.0      1   \n",
       "4                           Allen, Mr. William Henry    male  35.0      0   \n",
       "\n",
       "   Parch            Ticket     Fare  Cabin Embarked  Log_Fare  Family_Size  \\\n",
       "0      0         A/5 21171   7.2500      7        S  2.110213            2   \n",
       "1      0          PC 17599  71.2833      2        C  4.280593            2   \n",
       "2      0  STON/O2. 3101282   7.9250      7        S  2.188856            1   \n",
       "3      0            113803  53.1000      2        S  3.990834            2   \n",
       "4      0            373450   8.0500      7        S  2.202765            1   \n",
       "\n",
       "  Title1  Title2  \n",
       "0     Mr       3  \n",
       "1    Mrs       4  \n",
       "2   Miss       2  \n",
       "3    Mrs       4  \n",
       "4     Mr       3  "
      ]
     },
     "execution_count": 22,
     "metadata": {},
     "output_type": "execute_result"
    }
   ],
   "source": [
    "train_data['Pclass'] = train_data['Pclass'].astype('category').cat.codes\n",
    "train_data['Cabin'] = train_data['Cabin'].astype('category').cat.codes\n",
    "train_data['Title2'] = train_data['Title2'].astype('category').cat.codes\n",
    "\n",
    "train_data.head(5)"
   ]
  },
  {
   "cell_type": "code",
   "execution_count": 23,
   "metadata": {},
   "outputs": [
    {
     "data": {
      "text/html": [
       "<div>\n",
       "<style scoped>\n",
       "    .dataframe tbody tr th:only-of-type {\n",
       "        vertical-align: middle;\n",
       "    }\n",
       "\n",
       "    .dataframe tbody tr th {\n",
       "        vertical-align: top;\n",
       "    }\n",
       "\n",
       "    .dataframe thead th {\n",
       "        text-align: right;\n",
       "    }\n",
       "</style>\n",
       "<table border=\"1\" class=\"dataframe\">\n",
       "  <thead>\n",
       "    <tr style=\"text-align: right;\">\n",
       "      <th></th>\n",
       "      <th>Pclass</th>\n",
       "      <th>Sex</th>\n",
       "      <th>Age</th>\n",
       "      <th>SibSp</th>\n",
       "      <th>Parch</th>\n",
       "      <th>Fare</th>\n",
       "      <th>Embarked</th>\n",
       "      <th>Cabin</th>\n",
       "      <th>Family_Size</th>\n",
       "      <th>Title2</th>\n",
       "    </tr>\n",
       "  </thead>\n",
       "  <tbody>\n",
       "    <tr>\n",
       "      <th>0</th>\n",
       "      <td>2</td>\n",
       "      <td>male</td>\n",
       "      <td>22.0</td>\n",
       "      <td>1</td>\n",
       "      <td>0</td>\n",
       "      <td>7.2500</td>\n",
       "      <td>S</td>\n",
       "      <td>7</td>\n",
       "      <td>2</td>\n",
       "      <td>3</td>\n",
       "    </tr>\n",
       "    <tr>\n",
       "      <th>1</th>\n",
       "      <td>0</td>\n",
       "      <td>female</td>\n",
       "      <td>38.0</td>\n",
       "      <td>1</td>\n",
       "      <td>0</td>\n",
       "      <td>71.2833</td>\n",
       "      <td>C</td>\n",
       "      <td>2</td>\n",
       "      <td>2</td>\n",
       "      <td>4</td>\n",
       "    </tr>\n",
       "    <tr>\n",
       "      <th>2</th>\n",
       "      <td>2</td>\n",
       "      <td>female</td>\n",
       "      <td>26.0</td>\n",
       "      <td>0</td>\n",
       "      <td>0</td>\n",
       "      <td>7.9250</td>\n",
       "      <td>S</td>\n",
       "      <td>7</td>\n",
       "      <td>1</td>\n",
       "      <td>2</td>\n",
       "    </tr>\n",
       "    <tr>\n",
       "      <th>3</th>\n",
       "      <td>0</td>\n",
       "      <td>female</td>\n",
       "      <td>35.0</td>\n",
       "      <td>1</td>\n",
       "      <td>0</td>\n",
       "      <td>53.1000</td>\n",
       "      <td>S</td>\n",
       "      <td>2</td>\n",
       "      <td>2</td>\n",
       "      <td>4</td>\n",
       "    </tr>\n",
       "    <tr>\n",
       "      <th>4</th>\n",
       "      <td>2</td>\n",
       "      <td>male</td>\n",
       "      <td>35.0</td>\n",
       "      <td>0</td>\n",
       "      <td>0</td>\n",
       "      <td>8.0500</td>\n",
       "      <td>S</td>\n",
       "      <td>7</td>\n",
       "      <td>1</td>\n",
       "      <td>3</td>\n",
       "    </tr>\n",
       "  </tbody>\n",
       "</table>\n",
       "</div>"
      ],
      "text/plain": [
       "   Pclass     Sex   Age  SibSp  Parch     Fare Embarked  Cabin  Family_Size  \\\n",
       "0       2    male  22.0      1      0   7.2500        S      7            2   \n",
       "1       0  female  38.0      1      0  71.2833        C      2            2   \n",
       "2       2  female  26.0      0      0   7.9250        S      7            1   \n",
       "3       0  female  35.0      1      0  53.1000        S      2            2   \n",
       "4       2    male  35.0      0      0   8.0500        S      7            1   \n",
       "\n",
       "   Title2  \n",
       "0       3  \n",
       "1       4  \n",
       "2       2  \n",
       "3       4  \n",
       "4       3  "
      ]
     },
     "execution_count": 23,
     "metadata": {},
     "output_type": "execute_result"
    }
   ],
   "source": [
    "col_features = ['Pclass','Sex', 'Age', 'SibSp', 'Parch', 'Fare', 'Embarked', 'Cabin', 'Family_Size', 'Title2']\n",
    "\n",
    "train_feature_df = train_data[col_features].copy()\n",
    "train_feature_df.head()"
   ]
  },
  {
   "cell_type": "code",
   "execution_count": 24,
   "metadata": {},
   "outputs": [
    {
     "data": {
      "text/plain": [
       "array([[1.        , 1.        , 0.27117366, 0.125     , 0.        ,\n",
       "        0.01415106, 0.875     , 0.1       , 0.75      , 0.        ,\n",
       "        0.        , 1.        ],\n",
       "       [0.        , 0.        , 0.4722292 , 0.125     , 0.        ,\n",
       "        0.13913574, 0.25      , 0.1       , 1.        , 1.        ,\n",
       "        0.        , 0.        ],\n",
       "       [1.        , 0.        , 0.32143755, 0.        , 0.        ,\n",
       "        0.01546857, 0.875     , 0.        , 0.5       , 0.        ,\n",
       "        0.        , 1.        ],\n",
       "       [0.        , 0.        , 0.43453129, 0.125     , 0.        ,\n",
       "        0.1036443 , 0.25      , 0.1       , 1.        , 0.        ,\n",
       "        0.        , 1.        ],\n",
       "       [1.        , 1.        , 0.43453129, 0.        , 0.        ,\n",
       "        0.01571255, 0.875     , 0.        , 0.75      , 0.        ,\n",
       "        0.        , 1.        ]])"
      ]
     },
     "execution_count": 24,
     "metadata": {},
     "output_type": "execute_result"
    }
   ],
   "source": [
    "from sklearn import preprocessing\n",
    "\n",
    "def PreprocessData(df_raw):\n",
    "    \n",
    "    df_raw.loc[df_raw.Sex == 'male',   \"Sex\"] = 1\n",
    "    df_raw.loc[df_raw.Sex == 'female', \"Sex\"] = 0\n",
    "    \n",
    "    fare_mean = df_raw['Fare'].mean()\n",
    "    df_raw['Fare'] = df_raw['Fare'].fillna(fare_mean)\n",
    "\n",
    "    age_mean  = df_raw['Age'].mean()\n",
    "    df_raw.loc[df_raw.Age.isnull(), \"Age\"] = age_mean\n",
    "\n",
    "    df_OneHot = pd.get_dummies(data = df_raw, columns=[\"Embarked\"])\n",
    "\n",
    "    ndarray = df_OneHot.values\n",
    "\n",
    "    minmax_scale = preprocessing.MinMaxScaler(feature_range = (0,1))\n",
    "    array_features = minmax_scale.fit_transform(ndarray)\n",
    "    \n",
    "    return array_features\n",
    "\n",
    "train_feature = PreprocessData(train_feature_df)\n",
    "train_feature[:5]"
   ]
  },
  {
   "cell_type": "code",
   "execution_count": 25,
   "metadata": {},
   "outputs": [
    {
     "name": "stderr",
     "output_type": "stream",
     "text": [
      "Using TensorFlow backend.\n"
     ]
    },
    {
     "name": "stdout",
     "output_type": "stream",
     "text": [
      "_________________________________________________________________\n",
      "Layer (type)                 Output Shape              Param #   \n",
      "=================================================================\n",
      "dense_1 (Dense)              (None, 24)                312       \n",
      "_________________________________________________________________\n",
      "dense_2 (Dense)              (None, 12)                300       \n",
      "_________________________________________________________________\n",
      "dense_3 (Dense)              (None, 6)                 78        \n",
      "_________________________________________________________________\n",
      "dense_4 (Dense)              (None, 1)                 7         \n",
      "=================================================================\n",
      "Total params: 697\n",
      "Trainable params: 697\n",
      "Non-trainable params: 0\n",
      "_________________________________________________________________\n",
      "None\n"
     ]
    }
   ],
   "source": [
    "# Create Model\n",
    "\n",
    "from keras.models import Sequential\n",
    "from keras.layers import Dense, Dropout\n",
    "\n",
    "# Cretae Keras Sequential Model\n",
    "\n",
    "def Model_MLP():\n",
    "    model = Sequential()\n",
    "    \n",
    "    # Input & Hidden Layer 1\n",
    "    model.add(Dense(units = 24, input_dim = 12, kernel_initializer = 'uniform', activation = 'relu'))\n",
    "                    \n",
    "    # Hidden Layer 2\n",
    "    model.add(Dense(units = 12, kernel_initializer = 'uniform', activation = 'relu'))\n",
    "\n",
    "    # Hidden Layer 2\n",
    "    model.add(Dense(units = 6, kernel_initializer = 'uniform', activation = 'relu'))\n",
    "    \n",
    "    # Output Layer\n",
    "    model.add(Dense(units = 1, kernel_initializer = 'uniform',activation = 'sigmoid'))\n",
    "    \n",
    "    return model\n",
    "\n",
    "model = Model_MLP()\n",
    "print(model.summary())"
   ]
  },
  {
   "cell_type": "code",
   "execution_count": 26,
   "metadata": {},
   "outputs": [
    {
     "name": "stdout",
     "output_type": "stream",
     "text": [
      "Train on 801 samples, validate on 90 samples\n",
      "Epoch 1/30\n",
      " - 2s - loss: 0.6923 - acc: 0.6080 - val_loss: 0.6913 - val_acc: 0.6222\n",
      "Epoch 2/30\n",
      " - 0s - loss: 0.6905 - acc: 0.6155 - val_loss: 0.6891 - val_acc: 0.6222\n",
      "Epoch 3/30\n",
      " - 0s - loss: 0.6881 - acc: 0.6155 - val_loss: 0.6862 - val_acc: 0.6222\n",
      "Epoch 4/30\n",
      " - 0s - loss: 0.6845 - acc: 0.6155 - val_loss: 0.6805 - val_acc: 0.6222\n",
      "Epoch 5/30\n",
      " - 0s - loss: 0.6776 - acc: 0.6155 - val_loss: 0.6693 - val_acc: 0.6222\n",
      "Epoch 6/30\n",
      " - 0s - loss: 0.6660 - acc: 0.6155 - val_loss: 0.6531 - val_acc: 0.6222\n",
      "Epoch 7/30\n",
      " - 0s - loss: 0.6509 - acc: 0.6155 - val_loss: 0.6363 - val_acc: 0.6222\n",
      "Epoch 8/30\n",
      " - 0s - loss: 0.6356 - acc: 0.6155 - val_loss: 0.6164 - val_acc: 0.6222\n",
      "Epoch 9/30\n",
      " - 0s - loss: 0.6152 - acc: 0.6155 - val_loss: 0.5910 - val_acc: 0.6222\n",
      "Epoch 10/30\n",
      " - 0s - loss: 0.5936 - acc: 0.6155 - val_loss: 0.5680 - val_acc: 0.6222\n",
      "Epoch 11/30\n",
      " - 0s - loss: 0.5751 - acc: 0.6479 - val_loss: 0.5490 - val_acc: 0.7667\n",
      "Epoch 12/30\n",
      " - 0s - loss: 0.5589 - acc: 0.7528 - val_loss: 0.5442 - val_acc: 0.8111\n",
      "Epoch 13/30\n",
      " - 0s - loss: 0.5423 - acc: 0.7903 - val_loss: 0.5279 - val_acc: 0.8111\n",
      "Epoch 14/30\n",
      " - 0s - loss: 0.5291 - acc: 0.7965 - val_loss: 0.5222 - val_acc: 0.8222\n",
      "Epoch 15/30\n",
      " - 0s - loss: 0.5242 - acc: 0.7915 - val_loss: 0.5186 - val_acc: 0.7667\n",
      "Epoch 16/30\n",
      " - 0s - loss: 0.5173 - acc: 0.8140 - val_loss: 0.5084 - val_acc: 0.8222\n",
      "Epoch 17/30\n",
      " - 0s - loss: 0.5106 - acc: 0.8027 - val_loss: 0.5032 - val_acc: 0.7889\n",
      "Epoch 18/30\n",
      " - 0s - loss: 0.5043 - acc: 0.8065 - val_loss: 0.4986 - val_acc: 0.7889\n",
      "Epoch 19/30\n",
      " - 0s - loss: 0.4971 - acc: 0.8040 - val_loss: 0.4922 - val_acc: 0.7889\n",
      "Epoch 20/30\n",
      " - 0s - loss: 0.4910 - acc: 0.8040 - val_loss: 0.4860 - val_acc: 0.7889\n",
      "Epoch 21/30\n",
      " - 0s - loss: 0.4866 - acc: 0.8065 - val_loss: 0.4803 - val_acc: 0.7889\n",
      "Epoch 22/30\n",
      " - 0s - loss: 0.4813 - acc: 0.8052 - val_loss: 0.4762 - val_acc: 0.7889\n",
      "Epoch 23/30\n",
      " - 0s - loss: 0.4776 - acc: 0.7915 - val_loss: 0.4745 - val_acc: 0.7778\n",
      "Epoch 24/30\n",
      " - 0s - loss: 0.4744 - acc: 0.7990 - val_loss: 0.4681 - val_acc: 0.7889\n",
      "Epoch 25/30\n",
      " - 0s - loss: 0.4726 - acc: 0.7903 - val_loss: 0.4631 - val_acc: 0.7889\n",
      "Epoch 26/30\n",
      " - 0s - loss: 0.4654 - acc: 0.8027 - val_loss: 0.4544 - val_acc: 0.7889\n",
      "Epoch 27/30\n",
      " - 0s - loss: 0.4636 - acc: 0.8077 - val_loss: 0.4509 - val_acc: 0.7889\n",
      "Epoch 28/30\n",
      " - 0s - loss: 0.4589 - acc: 0.8015 - val_loss: 0.4466 - val_acc: 0.7889\n",
      "Epoch 29/30\n",
      " - 0s - loss: 0.4589 - acc: 0.8077 - val_loss: 0.4416 - val_acc: 0.8000\n",
      "Epoch 30/30\n",
      " - 0s - loss: 0.4537 - acc: 0.8115 - val_loss: 0.4399 - val_acc: 0.8000\n"
     ]
    }
   ],
   "source": [
    "# Training\n",
    "\n",
    "# Define Training method\n",
    "model.compile(loss='binary_crossentropy', optimizer = 'adam', metrics = ['accuracy'])\n",
    "\n",
    "# Begin Training\n",
    "train_history = model.fit(x = train_feature,\n",
    "                          y = train_label,\n",
    "                          validation_split = 0.1,\n",
    "                          epochs = 30,\n",
    "                          batch_size = 50,\n",
    "                          verbose = 2)"
   ]
  },
  {
   "cell_type": "code",
   "execution_count": 27,
   "metadata": {},
   "outputs": [],
   "source": [
    "import matplotlib.pyplot as plt\n",
    "\n",
    "def show_train_history(train_history, train, validation):\n",
    "    plt.plot(train_history.history[train])\n",
    "    plt.plot(train_history.history[validation])\n",
    "    plt.title('Train History')\n",
    "    plt.ylabel('Train')\n",
    "    plt.xlabel('Epoch')\n",
    "    plt.legend(['train', 'validation'], loc='upper left')\n",
    "    plt.show()"
   ]
  },
  {
   "cell_type": "code",
   "execution_count": 28,
   "metadata": {},
   "outputs": [
    {
     "data": {
      "image/png": "[encoded data removed]",
      "text/plain": [
       "<Figure size 432x288 with 1 Axes>"
      ]
     },
     "metadata": {
      "needs_background": "light"
     },
     "output_type": "display_data"
    }
   ],
   "source": [
    "show_train_history(train_history, 'acc', 'val_acc')"
   ]
  },
  {
   "cell_type": "code",
   "execution_count": 29,
   "metadata": {},
   "outputs": [
    {
     "data": {
      "image/png": "[encoded data removed]",
      "text/plain": [
       "<Figure size 432x288 with 1 Axes>"
      ]
     },
     "metadata": {
      "needs_background": "light"
     },
     "output_type": "display_data"
    }
   ],
   "source": [
    "show_train_history(train_history, 'loss', 'val_loss')"
   ]
  },
  {
   "cell_type": "code",
   "execution_count": 30,
   "metadata": {},
   "outputs": [
    {
     "name": "stdout",
     "output_type": "stream",
     "text": [
      "891/891 [==============================] - 0s 65us/step\n"
     ]
    },
    {
     "data": {
      "text/plain": [
       "0.8047138055834572"
      ]
     },
     "execution_count": 30,
     "metadata": {},
     "output_type": "execute_result"
    }
   ],
   "source": [
    "# Accuracy Evaluation\n",
    "scores = model.evaluate(train_feature, train_label)\n",
    "scores[1]"
   ]
  },
  {
   "cell_type": "code",
   "execution_count": 31,
   "metadata": {},
   "outputs": [
    {
     "data": {
      "text/plain": [
       "array([0, 1, 0, 0, 1])"
      ]
     },
     "execution_count": 31,
     "metadata": {},
     "output_type": "execute_result"
    }
   ],
   "source": [
    "# Test\n",
    "\n",
    "test_file = \"data/test.csv\"\n",
    "test_data = pd.read_csv(test_file)\n",
    "\n",
    "# Family_Size\n",
    "test_data['Family_Size'] = test_data['Parch'] + test_data['SibSp'] + 1\n",
    "\n",
    "# Title2\n",
    "test_data['Title1'] = test_data['Name'].str.split(', ', expand=True)[1]\n",
    "test_data['Title1'] = test_data['Title1'].str.split('.', expand=True)[0]\n",
    "test_data['Title2'] = test_data['Title1'].replace(\n",
    "  ['Mlle','Mme','Ms',  'Dr','Major','Lady','the Countess','Jonkheer','Col','Rev','Capt','Sir','Don','Dona'],\n",
    "  ['Miss','Mrs','Miss','Dr','Mr',   'Mrs', 'Mrs',         'Mr',      'Mr', 'Mr', 'Mr',  'Mr', 'Mr', 'Mrs']\n",
    ")\n",
    "\n",
    "# Cabin\n",
    "train_data['Cabin'] = train_data['Cabin'].apply(lambda x: str(x)[0] if not pd.isnull(x) else 'NoCabin')\n",
    "\n",
    "# Convert data to integer\n",
    "test_data['Pclass'] = test_data['Pclass'].astype('category').cat.codes\n",
    "test_data['Cabin']  = test_data['Cabin'].astype('category').cat.codes\n",
    "test_data['Title2'] = test_data['Title2'].astype('category').cat.codes\n",
    "\n",
    "\n",
    "test_feature_df = test_data[col_features].copy()\n",
    "test_feature = PreprocessData(test_feature_df)\n",
    "\n",
    "prediction = model.predict_classes(test_feature)\n",
    "\n",
    "results = prediction.reshape(-1)\n",
    "results[:5]"
   ]
  },
  {
   "cell_type": "code",
   "execution_count": 32,
   "metadata": {},
   "outputs": [],
   "source": [
    "results = pd.DataFrame({\n",
    "    'PassengerId' : test_data['PassengerId'],\n",
    "    'Survived'    : results\n",
    "})\n",
    "\n",
    "results.to_csv(\"data/submission2.csv\", index = False)"
   ]
  },
  {
   "cell_type": "code",
   "execution_count": null,
   "metadata": {},
   "outputs": [],
   "source": []
  }
 ],
 "metadata": {
  "kernelspec": {
   "display_name": "Python 3",
   "language": "python",
   "name": "python3"
  },
  "language_info": {
   "codemirror_mode": {
    "name": "ipython",
    "version": 3
   },
   "file_extension": ".py",
   "mimetype": "text/x-python",
   "name": "python",
   "nbconvert_exporter": "python",
   "pygments_lexer": "ipython3",
   "version": "3.6.7"
  }
 },
 "nbformat": 4,
 "nbformat_minor": 2
}
