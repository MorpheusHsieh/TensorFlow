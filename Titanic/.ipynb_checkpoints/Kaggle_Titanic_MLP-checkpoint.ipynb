{
 "cells": [
  {
   "cell_type": "code",
   "execution_count": 1,
   "metadata": {},
   "outputs": [
    {
     "data": {
      "text/html": [
       "<div>\n",
       "<style scoped>\n",
       "    .dataframe tbody tr th:only-of-type {\n",
       "        vertical-align: middle;\n",
       "    }\n",
       "\n",
       "    .dataframe tbody tr th {\n",
       "        vertical-align: top;\n",
       "    }\n",
       "\n",
       "    .dataframe thead th {\n",
       "        text-align: right;\n",
       "    }\n",
       "</style>\n",
       "<table border=\"1\" class=\"dataframe\">\n",
       "  <thead>\n",
       "    <tr style=\"text-align: right;\">\n",
       "      <th></th>\n",
       "      <th>PassengerId</th>\n",
       "      <th>Survived</th>\n",
       "      <th>Pclass</th>\n",
       "      <th>Name</th>\n",
       "      <th>Sex</th>\n",
       "      <th>Age</th>\n",
       "      <th>SibSp</th>\n",
       "      <th>Parch</th>\n",
       "      <th>Ticket</th>\n",
       "      <th>Fare</th>\n",
       "      <th>Cabin</th>\n",
       "      <th>Embarked</th>\n",
       "    </tr>\n",
       "  </thead>\n",
       "  <tbody>\n",
       "    <tr>\n",
       "      <th>0</th>\n",
       "      <td>1</td>\n",
       "      <td>0</td>\n",
       "      <td>3</td>\n",
       "      <td>Braund, Mr. Owen Harris</td>\n",
       "      <td>male</td>\n",
       "      <td>22.0</td>\n",
       "      <td>1</td>\n",
       "      <td>0</td>\n",
       "      <td>A/5 21171</td>\n",
       "      <td>7.2500</td>\n",
       "      <td>NaN</td>\n",
       "      <td>S</td>\n",
       "    </tr>\n",
       "    <tr>\n",
       "      <th>1</th>\n",
       "      <td>2</td>\n",
       "      <td>1</td>\n",
       "      <td>1</td>\n",
       "      <td>Cumings, Mrs. John Bradley (Florence Briggs Th...</td>\n",
       "      <td>female</td>\n",
       "      <td>38.0</td>\n",
       "      <td>1</td>\n",
       "      <td>0</td>\n",
       "      <td>PC 17599</td>\n",
       "      <td>71.2833</td>\n",
       "      <td>C85</td>\n",
       "      <td>C</td>\n",
       "    </tr>\n",
       "    <tr>\n",
       "      <th>2</th>\n",
       "      <td>3</td>\n",
       "      <td>1</td>\n",
       "      <td>3</td>\n",
       "      <td>Heikkinen, Miss. Laina</td>\n",
       "      <td>female</td>\n",
       "      <td>26.0</td>\n",
       "      <td>0</td>\n",
       "      <td>0</td>\n",
       "      <td>STON/O2. 3101282</td>\n",
       "      <td>7.9250</td>\n",
       "      <td>NaN</td>\n",
       "      <td>S</td>\n",
       "    </tr>\n",
       "    <tr>\n",
       "      <th>3</th>\n",
       "      <td>4</td>\n",
       "      <td>1</td>\n",
       "      <td>1</td>\n",
       "      <td>Futrelle, Mrs. Jacques Heath (Lily May Peel)</td>\n",
       "      <td>female</td>\n",
       "      <td>35.0</td>\n",
       "      <td>1</td>\n",
       "      <td>0</td>\n",
       "      <td>113803</td>\n",
       "      <td>53.1000</td>\n",
       "      <td>C123</td>\n",
       "      <td>S</td>\n",
       "    </tr>\n",
       "    <tr>\n",
       "      <th>4</th>\n",
       "      <td>5</td>\n",
       "      <td>0</td>\n",
       "      <td>3</td>\n",
       "      <td>Allen, Mr. William Henry</td>\n",
       "      <td>male</td>\n",
       "      <td>35.0</td>\n",
       "      <td>0</td>\n",
       "      <td>0</td>\n",
       "      <td>373450</td>\n",
       "      <td>8.0500</td>\n",
       "      <td>NaN</td>\n",
       "      <td>S</td>\n",
       "    </tr>\n",
       "  </tbody>\n",
       "</table>\n",
       "</div>"
      ],
      "text/plain": [
       "   PassengerId  Survived  Pclass  \\\n",
       "0            1         0       3   \n",
       "1            2         1       1   \n",
       "2            3         1       3   \n",
       "3            4         1       1   \n",
       "4            5         0       3   \n",
       "\n",
       "                                                Name     Sex   Age  SibSp  \\\n",
       "0                            Braund, Mr. Owen Harris    male  22.0      1   \n",
       "1  Cumings, Mrs. John Bradley (Florence Briggs Th...  female  38.0      1   \n",
       "2                             Heikkinen, Miss. Laina  female  26.0      0   \n",
       "3       Futrelle, Mrs. Jacques Heath (Lily May Peel)  female  35.0      1   \n",
       "4                           Allen, Mr. William Henry    male  35.0      0   \n",
       "\n",
       "   Parch            Ticket     Fare Cabin Embarked  \n",
       "0      0         A/5 21171   7.2500   NaN        S  \n",
       "1      0          PC 17599  71.2833   C85        C  \n",
       "2      0  STON/O2. 3101282   7.9250   NaN        S  \n",
       "3      0            113803  53.1000  C123        S  \n",
       "4      0            373450   8.0500   NaN        S  "
      ]
     },
     "execution_count": 1,
     "metadata": {},
     "output_type": "execute_result"
    }
   ],
   "source": [
    "import os\n",
    "import numpy as np\n",
    "import pandas as pd\n",
    "\n",
    "train_file = \"data/train.csv\"\n",
    "train_df  = pd.read_csv(train_file)\n",
    "\n",
    "train_df.head()"
   ]
  },
  {
   "cell_type": "code",
   "execution_count": 3,
   "metadata": {},
   "outputs": [
    {
     "data": {
      "text/plain": [
       "array([0, 1, 1, 1, 0], dtype=int64)"
      ]
     },
     "execution_count": 3,
     "metadata": {},
     "output_type": "execute_result"
    }
   ],
   "source": [
    "col_label = ['Survived']\n",
    "\n",
    "train_df_label = train_df[col_label].copy()\n",
    "train_label = train_df_label.values[:, 0]\n",
    "\n",
    "train_label[:5]"
   ]
  },
  {
   "cell_type": "code",
   "execution_count": 4,
   "metadata": {},
   "outputs": [
    {
     "data": {
      "text/html": [
       "<div>\n",
       "<style scoped>\n",
       "    .dataframe tbody tr th:only-of-type {\n",
       "        vertical-align: middle;\n",
       "    }\n",
       "\n",
       "    .dataframe tbody tr th {\n",
       "        vertical-align: top;\n",
       "    }\n",
       "\n",
       "    .dataframe thead th {\n",
       "        text-align: right;\n",
       "    }\n",
       "</style>\n",
       "<table border=\"1\" class=\"dataframe\">\n",
       "  <thead>\n",
       "    <tr style=\"text-align: right;\">\n",
       "      <th></th>\n",
       "      <th>Pclass</th>\n",
       "      <th>Sex</th>\n",
       "      <th>Age</th>\n",
       "      <th>SibSp</th>\n",
       "      <th>Parch</th>\n",
       "      <th>Fare</th>\n",
       "      <th>Embarked</th>\n",
       "    </tr>\n",
       "  </thead>\n",
       "  <tbody>\n",
       "    <tr>\n",
       "      <th>0</th>\n",
       "      <td>3</td>\n",
       "      <td>male</td>\n",
       "      <td>22.0</td>\n",
       "      <td>1</td>\n",
       "      <td>0</td>\n",
       "      <td>7.2500</td>\n",
       "      <td>S</td>\n",
       "    </tr>\n",
       "    <tr>\n",
       "      <th>1</th>\n",
       "      <td>1</td>\n",
       "      <td>female</td>\n",
       "      <td>38.0</td>\n",
       "      <td>1</td>\n",
       "      <td>0</td>\n",
       "      <td>71.2833</td>\n",
       "      <td>C</td>\n",
       "    </tr>\n",
       "    <tr>\n",
       "      <th>2</th>\n",
       "      <td>3</td>\n",
       "      <td>female</td>\n",
       "      <td>26.0</td>\n",
       "      <td>0</td>\n",
       "      <td>0</td>\n",
       "      <td>7.9250</td>\n",
       "      <td>S</td>\n",
       "    </tr>\n",
       "    <tr>\n",
       "      <th>3</th>\n",
       "      <td>1</td>\n",
       "      <td>female</td>\n",
       "      <td>35.0</td>\n",
       "      <td>1</td>\n",
       "      <td>0</td>\n",
       "      <td>53.1000</td>\n",
       "      <td>S</td>\n",
       "    </tr>\n",
       "    <tr>\n",
       "      <th>4</th>\n",
       "      <td>3</td>\n",
       "      <td>male</td>\n",
       "      <td>35.0</td>\n",
       "      <td>0</td>\n",
       "      <td>0</td>\n",
       "      <td>8.0500</td>\n",
       "      <td>S</td>\n",
       "    </tr>\n",
       "  </tbody>\n",
       "</table>\n",
       "</div>"
      ],
      "text/plain": [
       "   Pclass     Sex   Age  SibSp  Parch     Fare Embarked\n",
       "0       3    male  22.0      1      0   7.2500        S\n",
       "1       1  female  38.0      1      0  71.2833        C\n",
       "2       3  female  26.0      0      0   7.9250        S\n",
       "3       1  female  35.0      1      0  53.1000        S\n",
       "4       3    male  35.0      0      0   8.0500        S"
      ]
     },
     "execution_count": 4,
     "metadata": {},
     "output_type": "execute_result"
    }
   ],
   "source": [
    "col_features = ['Pclass','Sex', 'Age', 'SibSp', 'Parch', 'Fare', 'Embarked']\n",
    "\n",
    "train_df_feature = train_df[col_features].copy()\n",
    "train_df_feature.head()"
   ]
  },
  {
   "cell_type": "code",
   "execution_count": 5,
   "metadata": {},
   "outputs": [
    {
     "data": {
      "text/plain": [
       "array([[1.        , 1.        , 0.27117366, 0.125     , 0.        ,\n",
       "        0.01415106, 0.        , 0.        , 1.        ],\n",
       "       [0.        , 0.        , 0.4722292 , 0.125     , 0.        ,\n",
       "        0.13913574, 1.        , 0.        , 0.        ],\n",
       "       [1.        , 0.        , 0.32143755, 0.        , 0.        ,\n",
       "        0.01546857, 0.        , 0.        , 1.        ],\n",
       "       [0.        , 0.        , 0.43453129, 0.125     , 0.        ,\n",
       "        0.1036443 , 0.        , 0.        , 1.        ],\n",
       "       [1.        , 1.        , 0.43453129, 0.        , 0.        ,\n",
       "        0.01571255, 0.        , 0.        , 1.        ]])"
      ]
     },
     "execution_count": 5,
     "metadata": {},
     "output_type": "execute_result"
    }
   ],
   "source": [
    "from sklearn import preprocessing\n",
    "\n",
    "def PreprocessData(df_raw):\n",
    "    \n",
    "    df_raw.loc[df_raw.Sex == 'male',   \"Sex\"] = 1\n",
    "    df_raw.loc[df_raw.Sex == 'female', \"Sex\"] = 0\n",
    "    \n",
    "    fare_mean = df_raw['Fare'].mean()\n",
    "    df_raw['Fare'] = df_raw['Fare'].fillna(fare_mean)\n",
    "\n",
    "    age_mean  = df_raw['Age'].mean()\n",
    "    df_raw.loc[df_raw.Age.isnull(), \"Age\"] = age_mean\n",
    "\n",
    "    df_OneHot = pd.get_dummies(data = df_raw, columns=[\"Embarked\"])\n",
    "\n",
    "    ndarray = df_OneHot.values\n",
    "\n",
    "    minmax_scale = preprocessing.MinMaxScaler(feature_range = (0,1))\n",
    "    array_features = minmax_scale.fit_transform(ndarray)\n",
    "    \n",
    "    return array_features\n",
    "\n",
    "train_feature = PreprocessData(train_df_feature)\n",
    "train_feature[:5]"
   ]
  },
  {
   "cell_type": "code",
   "execution_count": 6,
   "metadata": {},
   "outputs": [
    {
     "name": "stderr",
     "output_type": "stream",
     "text": [
      "Using TensorFlow backend.\n"
     ]
    },
    {
     "name": "stdout",
     "output_type": "stream",
     "text": [
      "_________________________________________________________________\n",
      "Layer (type)                 Output Shape              Param #   \n",
      "=================================================================\n",
      "dense_1 (Dense)              (None, 40)                400       \n",
      "_________________________________________________________________\n",
      "dropout_1 (Dropout)          (None, 40)                0         \n",
      "_________________________________________________________________\n",
      "dense_2 (Dense)              (None, 20)                820       \n",
      "_________________________________________________________________\n",
      "dropout_2 (Dropout)          (None, 20)                0         \n",
      "_________________________________________________________________\n",
      "dense_3 (Dense)              (None, 1)                 21        \n",
      "=================================================================\n",
      "Total params: 1,241\n",
      "Trainable params: 1,241\n",
      "Non-trainable params: 0\n",
      "_________________________________________________________________\n",
      "None\n"
     ]
    }
   ],
   "source": [
    "# Create Model\n",
    "\n",
    "from keras.models import Sequential\n",
    "from keras.layers import Dense, Dropout\n",
    "\n",
    "# Cretae Keras Sequential Model\n",
    "\n",
    "def Model_MLP():\n",
    "    model = Sequential()\n",
    "    \n",
    "    # Input & Hidden Layer 1\n",
    "    model.add(Dense(units = 40, input_dim = 9, kernel_initializer = 'uniform', activation = 'relu'))\n",
    "    model.add(Dropout(0.2))\n",
    "                    \n",
    "    # Hidden Layer 2\n",
    "    model.add(Dense(units = 20, kernel_initializer = 'uniform', activation = 'relu'))\n",
    "    model.add(Dropout(0.2))\n",
    "\n",
    "    # Output Layer\n",
    "    model.add(Dense(units = 1, kernel_initializer = 'uniform',activation = 'sigmoid'))\n",
    "    \n",
    "    return model\n",
    "\n",
    "model = Model_MLP()\n",
    "print(model.summary())"
   ]
  },
  {
   "cell_type": "code",
   "execution_count": 7,
   "metadata": {},
   "outputs": [
    {
     "name": "stdout",
     "output_type": "stream",
     "text": [
      "Train on 801 samples, validate on 90 samples\n",
      "Epoch 1/30\n",
      " - 2s - loss: 0.6890 - acc: 0.6080 - val_loss: 0.6780 - val_acc: 0.6222\n",
      "Epoch 2/30\n",
      " - 0s - loss: 0.6573 - acc: 0.6155 - val_loss: 0.6176 - val_acc: 0.6222\n",
      "Epoch 3/30\n",
      " - 0s - loss: 0.6017 - acc: 0.6380 - val_loss: 0.5635 - val_acc: 0.7111\n",
      "Epoch 4/30\n",
      " - 0s - loss: 0.5592 - acc: 0.7303 - val_loss: 0.5253 - val_acc: 0.8111\n",
      "Epoch 5/30\n",
      " - 0s - loss: 0.5245 - acc: 0.7890 - val_loss: 0.4987 - val_acc: 0.8222\n",
      "Epoch 6/30\n",
      " - 0s - loss: 0.5033 - acc: 0.7828 - val_loss: 0.4843 - val_acc: 0.7667\n",
      "Epoch 7/30\n",
      " - 0s - loss: 0.4960 - acc: 0.7890 - val_loss: 0.4739 - val_acc: 0.7778\n",
      "Epoch 8/30\n",
      " - 0s - loss: 0.4848 - acc: 0.7940 - val_loss: 0.4682 - val_acc: 0.7778\n",
      "Epoch 9/30\n",
      " - 0s - loss: 0.4769 - acc: 0.7953 - val_loss: 0.4573 - val_acc: 0.7889\n",
      "Epoch 10/30\n",
      " - 0s - loss: 0.4723 - acc: 0.8027 - val_loss: 0.4498 - val_acc: 0.7889\n",
      "Epoch 11/30\n",
      " - 0s - loss: 0.4623 - acc: 0.8002 - val_loss: 0.4448 - val_acc: 0.7889\n",
      "Epoch 12/30\n",
      " - 0s - loss: 0.4609 - acc: 0.8127 - val_loss: 0.4416 - val_acc: 0.8000\n",
      "Epoch 13/30\n",
      " - 0s - loss: 0.4579 - acc: 0.8077 - val_loss: 0.4398 - val_acc: 0.8000\n",
      "Epoch 14/30\n",
      " - 0s - loss: 0.4666 - acc: 0.8090 - val_loss: 0.4485 - val_acc: 0.7889\n",
      "Epoch 15/30\n",
      " - 0s - loss: 0.4523 - acc: 0.8127 - val_loss: 0.4406 - val_acc: 0.8000\n",
      "Epoch 16/30\n",
      " - 0s - loss: 0.4594 - acc: 0.8040 - val_loss: 0.4355 - val_acc: 0.8111\n",
      "Epoch 17/30\n",
      " - 0s - loss: 0.4544 - acc: 0.8115 - val_loss: 0.4338 - val_acc: 0.8000\n",
      "Epoch 18/30\n",
      " - 0s - loss: 0.4434 - acc: 0.8052 - val_loss: 0.4335 - val_acc: 0.8000\n",
      "Epoch 19/30\n",
      " - 0s - loss: 0.4500 - acc: 0.8040 - val_loss: 0.4313 - val_acc: 0.8000\n",
      "Epoch 20/30\n",
      " - 0s - loss: 0.4553 - acc: 0.8015 - val_loss: 0.4257 - val_acc: 0.8000\n",
      "Epoch 21/30\n",
      " - 0s - loss: 0.4529 - acc: 0.8115 - val_loss: 0.4258 - val_acc: 0.7889\n",
      "Epoch 22/30\n",
      " - 0s - loss: 0.4404 - acc: 0.8090 - val_loss: 0.4279 - val_acc: 0.8000\n",
      "Epoch 23/30\n",
      " - 0s - loss: 0.4506 - acc: 0.8027 - val_loss: 0.4236 - val_acc: 0.8111\n",
      "Epoch 24/30\n",
      " - 0s - loss: 0.4434 - acc: 0.8202 - val_loss: 0.4282 - val_acc: 0.8111\n",
      "Epoch 25/30\n",
      " - 0s - loss: 0.4426 - acc: 0.8077 - val_loss: 0.4234 - val_acc: 0.8000\n",
      "Epoch 26/30\n",
      " - 0s - loss: 0.4440 - acc: 0.8102 - val_loss: 0.4234 - val_acc: 0.8111\n",
      "Epoch 27/30\n",
      " - 0s - loss: 0.4450 - acc: 0.8115 - val_loss: 0.4226 - val_acc: 0.8000\n",
      "Epoch 28/30\n",
      " - 0s - loss: 0.4423 - acc: 0.8090 - val_loss: 0.4221 - val_acc: 0.8000\n",
      "Epoch 29/30\n",
      " - 0s - loss: 0.4404 - acc: 0.8102 - val_loss: 0.4203 - val_acc: 0.7889\n",
      "Epoch 30/30\n",
      " - 0s - loss: 0.4371 - acc: 0.8115 - val_loss: 0.4208 - val_acc: 0.7889\n"
     ]
    }
   ],
   "source": [
    "# Training\n",
    "\n",
    "# Define Training method\n",
    "model.compile(loss='binary_crossentropy', optimizer = 'adam', metrics = ['accuracy'])\n",
    "\n",
    "# Begin Training\n",
    "train_history = model.fit(x = train_feature,\n",
    "                          y = train_label,\n",
    "                          validation_split = 0.1,\n",
    "                          epochs = 30,\n",
    "                          batch_size = 20,\n",
    "                          verbose = 2)"
   ]
  },
  {
   "cell_type": "code",
   "execution_count": 8,
   "metadata": {},
   "outputs": [],
   "source": [
    "import matplotlib.pyplot as plt\n",
    "\n",
    "def show_train_history(train_history, train, validation):\n",
    "    plt.plot(train_history.history[train])\n",
    "    plt.plot(train_history.history[validation])\n",
    "    plt.title('Train History')\n",
    "    plt.ylabel('Train')\n",
    "    plt.xlabel('Epoch')\n",
    "    plt.legend(['train', 'validation'], loc='upper left')\n",
    "    plt.show()"
   ]
  },
  {
   "cell_type": "code",
   "execution_count": 9,
   "metadata": {},
   "outputs": [
    {
     "data": {
      "image/png": "[encoded data removed]",
      "text/plain": [
       "<Figure size 432x288 with 1 Axes>"
      ]
     },
     "metadata": {
      "needs_background": "light"
     },
     "output_type": "display_data"
    }
   ],
   "source": [
    "show_train_history(train_history, 'acc', 'val_acc')"
   ]
  },
  {
   "cell_type": "code",
   "execution_count": 10,
   "metadata": {},
   "outputs": [
    {
     "data": {
      "image/png": "[encoded data removed]",
      "text/plain": [
       "<Figure size 432x288 with 1 Axes>"
      ]
     },
     "metadata": {
      "needs_background": "light"
     },
     "output_type": "display_data"
    }
   ],
   "source": [
    "show_train_history(train_history, 'loss', 'val_loss')"
   ]
  },
  {
   "cell_type": "code",
   "execution_count": 11,
   "metadata": {},
   "outputs": [
    {
     "name": "stdout",
     "output_type": "stream",
     "text": [
      "891/891 [==============================] - 0s 122us/step\n"
     ]
    },
    {
     "data": {
      "text/plain": [
       "0.8125701467731318"
      ]
     },
     "execution_count": 11,
     "metadata": {},
     "output_type": "execute_result"
    }
   ],
   "source": [
    "# Accuracy Evaluation\n",
    "scores = model.evaluate(train_feature, train_label)\n",
    "scores[1]"
   ]
  },
  {
   "cell_type": "code",
   "execution_count": 12,
   "metadata": {},
   "outputs": [
    {
     "data": {
      "text/plain": [
       "array([0, 0, 0, 0, 0])"
      ]
     },
     "execution_count": 12,
     "metadata": {},
     "output_type": "execute_result"
    }
   ],
   "source": [
    "# Test\n",
    "\n",
    "test_file = \"data/test.csv\"\n",
    "test_df   = pd.read_csv(test_file)\n",
    "\n",
    "test_df_feature = test_df[col_features].copy()\n",
    "test_feature = PreprocessData(test_df_feature)\n",
    "\n",
    "prediction = model.predict_classes(test_feature)\n",
    "\n",
    "results = prediction.reshape(-1)\n",
    "results[:5]"
   ]
  },
  {
   "cell_type": "code",
   "execution_count": 14,
   "metadata": {},
   "outputs": [],
   "source": [
    "results = pd.DataFrame({\n",
    "    'PassengerId' : test_df['PassengerId'],\n",
    "    'Survived'    : results\n",
    "})\n",
    "\n",
    "results.to_csv(\"data/submission2.csv\", index = False)"
   ]
  },
  {
   "cell_type": "code",
   "execution_count": null,
   "metadata": {},
   "outputs": [],
   "source": []
  }
 ],
 "metadata": {
  "kernelspec": {
   "display_name": "Python 3",
   "language": "python",
   "name": "python3"
  },
  "language_info": {
   "codemirror_mode": {
    "name": "ipython",
    "version": 3
   },
   "file_extension": ".py",
   "mimetype": "text/x-python",
   "name": "python",
   "nbconvert_exporter": "python",
   "pygments_lexer": "ipython3",
   "version": "3.6.7"
  }
 },
 "nbformat": 4,
 "nbformat_minor": 2
}
