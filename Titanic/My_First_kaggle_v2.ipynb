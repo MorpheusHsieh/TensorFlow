{
 "cells": [
  {
   "cell_type": "code",
   "execution_count": 1,
   "metadata": {},
   "outputs": [
    {
     "data": {
      "text/html": [
       "<div>\n",
       "<style scoped>\n",
       "    .dataframe tbody tr th:only-of-type {\n",
       "        vertical-align: middle;\n",
       "    }\n",
       "\n",
       "    .dataframe tbody tr th {\n",
       "        vertical-align: top;\n",
       "    }\n",
       "\n",
       "    .dataframe thead th {\n",
       "        text-align: right;\n",
       "    }\n",
       "</style>\n",
       "<table border=\"1\" class=\"dataframe\">\n",
       "  <thead>\n",
       "    <tr style=\"text-align: right;\">\n",
       "      <th></th>\n",
       "      <th>PassengerId</th>\n",
       "      <th>Survived</th>\n",
       "      <th>Pclass</th>\n",
       "      <th>Name</th>\n",
       "      <th>Sex</th>\n",
       "      <th>Age</th>\n",
       "      <th>SibSp</th>\n",
       "      <th>Parch</th>\n",
       "      <th>Ticket</th>\n",
       "      <th>Fare</th>\n",
       "      <th>Cabin</th>\n",
       "      <th>Embarked</th>\n",
       "    </tr>\n",
       "  </thead>\n",
       "  <tbody>\n",
       "    <tr>\n",
       "      <th>0</th>\n",
       "      <td>1</td>\n",
       "      <td>0</td>\n",
       "      <td>3</td>\n",
       "      <td>Braund, Mr. Owen Harris</td>\n",
       "      <td>male</td>\n",
       "      <td>22.0</td>\n",
       "      <td>1</td>\n",
       "      <td>0</td>\n",
       "      <td>A/5 21171</td>\n",
       "      <td>7.2500</td>\n",
       "      <td>NaN</td>\n",
       "      <td>S</td>\n",
       "    </tr>\n",
       "    <tr>\n",
       "      <th>1</th>\n",
       "      <td>2</td>\n",
       "      <td>1</td>\n",
       "      <td>1</td>\n",
       "      <td>Cumings, Mrs. John Bradley (Florence Briggs Th...</td>\n",
       "      <td>female</td>\n",
       "      <td>38.0</td>\n",
       "      <td>1</td>\n",
       "      <td>0</td>\n",
       "      <td>PC 17599</td>\n",
       "      <td>71.2833</td>\n",
       "      <td>C85</td>\n",
       "      <td>C</td>\n",
       "    </tr>\n",
       "    <tr>\n",
       "      <th>2</th>\n",
       "      <td>3</td>\n",
       "      <td>1</td>\n",
       "      <td>3</td>\n",
       "      <td>Heikkinen, Miss. Laina</td>\n",
       "      <td>female</td>\n",
       "      <td>26.0</td>\n",
       "      <td>0</td>\n",
       "      <td>0</td>\n",
       "      <td>STON/O2. 3101282</td>\n",
       "      <td>7.9250</td>\n",
       "      <td>NaN</td>\n",
       "      <td>S</td>\n",
       "    </tr>\n",
       "    <tr>\n",
       "      <th>3</th>\n",
       "      <td>4</td>\n",
       "      <td>1</td>\n",
       "      <td>1</td>\n",
       "      <td>Futrelle, Mrs. Jacques Heath (Lily May Peel)</td>\n",
       "      <td>female</td>\n",
       "      <td>35.0</td>\n",
       "      <td>1</td>\n",
       "      <td>0</td>\n",
       "      <td>113803</td>\n",
       "      <td>53.1000</td>\n",
       "      <td>C123</td>\n",
       "      <td>S</td>\n",
       "    </tr>\n",
       "    <tr>\n",
       "      <th>4</th>\n",
       "      <td>5</td>\n",
       "      <td>0</td>\n",
       "      <td>3</td>\n",
       "      <td>Allen, Mr. William Henry</td>\n",
       "      <td>male</td>\n",
       "      <td>35.0</td>\n",
       "      <td>0</td>\n",
       "      <td>0</td>\n",
       "      <td>373450</td>\n",
       "      <td>8.0500</td>\n",
       "      <td>NaN</td>\n",
       "      <td>S</td>\n",
       "    </tr>\n",
       "  </tbody>\n",
       "</table>\n",
       "</div>"
      ],
      "text/plain": [
       "   PassengerId  Survived  Pclass  \\\n",
       "0            1         0       3   \n",
       "1            2         1       1   \n",
       "2            3         1       3   \n",
       "3            4         1       1   \n",
       "4            5         0       3   \n",
       "\n",
       "                                                Name     Sex   Age  SibSp  \\\n",
       "0                            Braund, Mr. Owen Harris    male  22.0      1   \n",
       "1  Cumings, Mrs. John Bradley (Florence Briggs Th...  female  38.0      1   \n",
       "2                             Heikkinen, Miss. Laina  female  26.0      0   \n",
       "3       Futrelle, Mrs. Jacques Heath (Lily May Peel)  female  35.0      1   \n",
       "4                           Allen, Mr. William Henry    male  35.0      0   \n",
       "\n",
       "   Parch            Ticket     Fare Cabin Embarked  \n",
       "0      0         A/5 21171   7.2500   NaN        S  \n",
       "1      0          PC 17599  71.2833   C85        C  \n",
       "2      0  STON/O2. 3101282   7.9250   NaN        S  \n",
       "3      0            113803  53.1000  C123        S  \n",
       "4      0            373450   8.0500   NaN        S  "
      ]
     },
     "execution_count": 1,
     "metadata": {},
     "output_type": "execute_result"
    }
   ],
   "source": [
    "import os\n",
    "import numpy as np\n",
    "import pandas as pd\n",
    "\n",
    "train_file = \"data/train.csv\"\n",
    "train_data  = pd.read_csv(train_file)\n",
    "\n",
    "train_data.head()"
   ]
  },
  {
   "cell_type": "code",
   "execution_count": 2,
   "metadata": {},
   "outputs": [
    {
     "name": "stdout",
     "output_type": "stream",
     "text": [
      "<class 'pandas.core.frame.DataFrame'>\n",
      "RangeIndex: 891 entries, 0 to 890\n",
      "Data columns (total 12 columns):\n",
      "PassengerId    891 non-null int64\n",
      "Survived       891 non-null int64\n",
      "Pclass         891 non-null int64\n",
      "Name           891 non-null object\n",
      "Sex            891 non-null object\n",
      "Age            714 non-null float64\n",
      "SibSp          891 non-null int64\n",
      "Parch          891 non-null int64\n",
      "Ticket         891 non-null object\n",
      "Fare           891 non-null float64\n",
      "Cabin          204 non-null object\n",
      "Embarked       889 non-null object\n",
      "dtypes: float64(2), int64(5), object(5)\n",
      "memory usage: 83.6+ KB\n"
     ]
    }
   ],
   "source": [
    "train_data.info()"
   ]
  },
  {
   "cell_type": "code",
   "execution_count": 6,
   "metadata": {},
   "outputs": [
    {
     "data": {
      "text/plain": [
       "array([0, 1, 1, 1, 0], dtype=int64)"
      ]
     },
     "execution_count": 6,
     "metadata": {},
     "output_type": "execute_result"
    }
   ],
   "source": [
    "col_label = ['Survived']\n",
    "\n",
    "#df_train_label = train_input[col_label].copy()\n",
    "#train_labels = df_train_label.values[:, 0]\n",
    "\n",
    "train_label_df = train_data[col_labels].copy()\n",
    "train_label = train_label_df.values[:, 0]\n",
    "\n",
    "train_labels[:5]"
   ]
  },
  {
   "cell_type": "code",
   "execution_count": 7,
   "metadata": {},
   "outputs": [
    {
     "data": {
      "text/html": [
       "<div>\n",
       "<style scoped>\n",
       "    .dataframe tbody tr th:only-of-type {\n",
       "        vertical-align: middle;\n",
       "    }\n",
       "\n",
       "    .dataframe tbody tr th {\n",
       "        vertical-align: top;\n",
       "    }\n",
       "\n",
       "    .dataframe thead th {\n",
       "        text-align: right;\n",
       "    }\n",
       "</style>\n",
       "<table border=\"1\" class=\"dataframe\">\n",
       "  <thead>\n",
       "    <tr style=\"text-align: right;\">\n",
       "      <th></th>\n",
       "      <th>Pclass</th>\n",
       "      <th>Sex</th>\n",
       "      <th>Age</th>\n",
       "      <th>SibSp</th>\n",
       "      <th>Parch</th>\n",
       "      <th>Fare</th>\n",
       "      <th>Embarked</th>\n",
       "    </tr>\n",
       "  </thead>\n",
       "  <tbody>\n",
       "    <tr>\n",
       "      <th>0</th>\n",
       "      <td>3</td>\n",
       "      <td>male</td>\n",
       "      <td>22.0</td>\n",
       "      <td>1</td>\n",
       "      <td>0</td>\n",
       "      <td>7.2500</td>\n",
       "      <td>S</td>\n",
       "    </tr>\n",
       "    <tr>\n",
       "      <th>1</th>\n",
       "      <td>1</td>\n",
       "      <td>female</td>\n",
       "      <td>38.0</td>\n",
       "      <td>1</td>\n",
       "      <td>0</td>\n",
       "      <td>71.2833</td>\n",
       "      <td>C</td>\n",
       "    </tr>\n",
       "    <tr>\n",
       "      <th>2</th>\n",
       "      <td>3</td>\n",
       "      <td>female</td>\n",
       "      <td>26.0</td>\n",
       "      <td>0</td>\n",
       "      <td>0</td>\n",
       "      <td>7.9250</td>\n",
       "      <td>S</td>\n",
       "    </tr>\n",
       "    <tr>\n",
       "      <th>3</th>\n",
       "      <td>1</td>\n",
       "      <td>female</td>\n",
       "      <td>35.0</td>\n",
       "      <td>1</td>\n",
       "      <td>0</td>\n",
       "      <td>53.1000</td>\n",
       "      <td>S</td>\n",
       "    </tr>\n",
       "    <tr>\n",
       "      <th>4</th>\n",
       "      <td>3</td>\n",
       "      <td>male</td>\n",
       "      <td>35.0</td>\n",
       "      <td>0</td>\n",
       "      <td>0</td>\n",
       "      <td>8.0500</td>\n",
       "      <td>S</td>\n",
       "    </tr>\n",
       "  </tbody>\n",
       "</table>\n",
       "</div>"
      ],
      "text/plain": [
       "   Pclass     Sex   Age  SibSp  Parch     Fare Embarked\n",
       "0       3    male  22.0      1      0   7.2500        S\n",
       "1       1  female  38.0      1      0  71.2833        C\n",
       "2       3  female  26.0      0      0   7.9250        S\n",
       "3       1  female  35.0      1      0  53.1000        S\n",
       "4       3    male  35.0      0      0   8.0500        S"
      ]
     },
     "execution_count": 7,
     "metadata": {},
     "output_type": "execute_result"
    }
   ],
   "source": [
    "col_features = ['Pclass','Sex', 'Age', 'SibSp', 'Parch', 'Fare', 'Embarked']\n",
    "\n",
    "train_feature_df = train_data[col_features].copy()\n",
    "train_feature_df.head()"
   ]
  },
  {
   "cell_type": "code",
   "execution_count": 9,
   "metadata": {},
   "outputs": [
    {
     "data": {
      "text/plain": [
       "array([[1.        , 1.        , 0.27117366, 0.125     , 0.        ,\n",
       "        0.01415106, 0.        , 0.        , 1.        ],\n",
       "       [0.        , 0.        , 0.4722292 , 0.125     , 0.        ,\n",
       "        0.13913574, 1.        , 0.        , 0.        ],\n",
       "       [1.        , 0.        , 0.32143755, 0.        , 0.        ,\n",
       "        0.01546857, 0.        , 0.        , 1.        ],\n",
       "       [0.        , 0.        , 0.43453129, 0.125     , 0.        ,\n",
       "        0.1036443 , 0.        , 0.        , 1.        ],\n",
       "       [1.        , 1.        , 0.43453129, 0.        , 0.        ,\n",
       "        0.01571255, 0.        , 0.        , 1.        ]])"
      ]
     },
     "execution_count": 9,
     "metadata": {},
     "output_type": "execute_result"
    }
   ],
   "source": [
    "from sklearn import preprocessing\n",
    "\n",
    "def PreprocessData(df_raw):\n",
    "    \n",
    "    df_raw.loc[df_raw.Sex == 'male',   \"Sex\"] = 1\n",
    "    df_raw.loc[df_raw.Sex == 'female', \"Sex\"] = 0\n",
    "    \n",
    "    fare_mean = df_raw['Fare'].mean()\n",
    "    df_raw['Fare'] = df_raw['Fare'].fillna(fare_mean)\n",
    "\n",
    "    age_mean  = df_raw['Age'].mean()\n",
    "    df_raw.loc[df_raw.Age.isnull(), \"Age\"] = age_mean\n",
    "\n",
    "    df_OneHot = pd.get_dummies(data = df_raw, columns=[\"Embarked\"])\n",
    "\n",
    "    ndarray = df_OneHot.values\n",
    "\n",
    "    minmax_scale = preprocessing.MinMaxScaler(feature_range = (0,1))\n",
    "    array_features = minmax_scale.fit_transform(ndarray)\n",
    "    \n",
    "    return array_features\n",
    "\n",
    "train_feature = PreprocessData(train_feature_df)\n",
    "train_feature[:5]"
   ]
  },
  {
   "cell_type": "code",
   "execution_count": 10,
   "metadata": {},
   "outputs": [
    {
     "name": "stderr",
     "output_type": "stream",
     "text": [
      "Using TensorFlow backend.\n"
     ]
    },
    {
     "name": "stdout",
     "output_type": "stream",
     "text": [
      "_________________________________________________________________\n",
      "Layer (type)                 Output Shape              Param #   \n",
      "=================================================================\n",
      "dense_1 (Dense)              (None, 40)                400       \n",
      "_________________________________________________________________\n",
      "dense_2 (Dense)              (None, 20)                820       \n",
      "_________________________________________________________________\n",
      "dense_3 (Dense)              (None, 1)                 21        \n",
      "=================================================================\n",
      "Total params: 1,241\n",
      "Trainable params: 1,241\n",
      "Non-trainable params: 0\n",
      "_________________________________________________________________\n",
      "None\n"
     ]
    }
   ],
   "source": [
    "# Create Model\n",
    "\n",
    "from keras.models import Sequential\n",
    "from keras.layers import Dense, Dropout\n",
    "\n",
    "# Cretae keras Sequential Model\n",
    "model = Sequential()\n",
    "\n",
    "# Create Input & Hidden Layer 1\n",
    "model.add(Dense(units = 40, \n",
    "                input_dim = 9,\n",
    "                kernel_initializer = 'uniform',\n",
    "                activation = 'relu'))\n",
    "\n",
    "# Create Hidden Layer 2\n",
    "model.add(Dense(units = 20,\n",
    "               kernel_initializer = 'uniform',\n",
    "               activation = 'relu'))\n",
    "\n",
    "# Create Output Layer\n",
    "model.add(Dense(units = 1,\n",
    "               kernel_initializer = 'uniform',\n",
    "               activation = 'sigmoid'))\n",
    "\n",
    "print(model.summary())"
   ]
  },
  {
   "cell_type": "code",
   "execution_count": 12,
   "metadata": {},
   "outputs": [
    {
     "name": "stdout",
     "output_type": "stream",
     "text": [
      "Train on 801 samples, validate on 90 samples\n",
      "Epoch 1/30\n",
      " - 4s - loss: 0.6906 - acc: 0.6180 - val_loss: 0.6856 - val_acc: 0.6222\n",
      "Epoch 2/30\n",
      " - 0s - loss: 0.6752 - acc: 0.6155 - val_loss: 0.6543 - val_acc: 0.6222\n",
      "Epoch 3/30\n",
      " - 0s - loss: 0.6309 - acc: 0.6454 - val_loss: 0.5880 - val_acc: 0.6667\n",
      "Epoch 4/30\n",
      " - 0s - loss: 0.5735 - acc: 0.6966 - val_loss: 0.5337 - val_acc: 0.7889\n",
      "Epoch 5/30\n",
      " - 0s - loss: 0.5294 - acc: 0.7940 - val_loss: 0.5059 - val_acc: 0.8000\n",
      "Epoch 6/30\n",
      " - 0s - loss: 0.5012 - acc: 0.7853 - val_loss: 0.4920 - val_acc: 0.7667\n",
      "Epoch 7/30\n",
      " - 0s - loss: 0.4869 - acc: 0.7890 - val_loss: 0.4795 - val_acc: 0.7778\n",
      "Epoch 8/30\n",
      " - 0s - loss: 0.4762 - acc: 0.7890 - val_loss: 0.4691 - val_acc: 0.7778\n",
      "Epoch 9/30\n",
      " - 0s - loss: 0.4690 - acc: 0.7903 - val_loss: 0.4598 - val_acc: 0.7889\n",
      "Epoch 10/30\n",
      " - 0s - loss: 0.4627 - acc: 0.7940 - val_loss: 0.4546 - val_acc: 0.7889\n",
      "Epoch 11/30\n",
      " - 0s - loss: 0.4576 - acc: 0.7965 - val_loss: 0.4497 - val_acc: 0.7889\n",
      "Epoch 12/30\n",
      " - 0s - loss: 0.4539 - acc: 0.8002 - val_loss: 0.4447 - val_acc: 0.7889\n",
      "Epoch 13/30\n",
      " - 0s - loss: 0.4500 - acc: 0.7990 - val_loss: 0.4404 - val_acc: 0.7889\n",
      "Epoch 14/30\n",
      " - 0s - loss: 0.4490 - acc: 0.8015 - val_loss: 0.4380 - val_acc: 0.8000\n",
      "Epoch 15/30\n",
      " - 0s - loss: 0.4495 - acc: 0.8077 - val_loss: 0.4408 - val_acc: 0.7889\n",
      "Epoch 16/30\n",
      " - 0s - loss: 0.4422 - acc: 0.8052 - val_loss: 0.4310 - val_acc: 0.8000\n",
      "Epoch 17/30\n",
      " - 0s - loss: 0.4422 - acc: 0.8127 - val_loss: 0.4295 - val_acc: 0.8000\n",
      "Epoch 18/30\n",
      " - 0s - loss: 0.4388 - acc: 0.8115 - val_loss: 0.4296 - val_acc: 0.7889\n",
      "Epoch 19/30\n",
      " - 0s - loss: 0.4397 - acc: 0.8065 - val_loss: 0.4248 - val_acc: 0.8111\n",
      "Epoch 20/30\n",
      " - 0s - loss: 0.4370 - acc: 0.8102 - val_loss: 0.4216 - val_acc: 0.8111\n",
      "Epoch 21/30\n",
      " - 0s - loss: 0.4366 - acc: 0.8127 - val_loss: 0.4210 - val_acc: 0.8000\n",
      "Epoch 22/30\n",
      " - 0s - loss: 0.4348 - acc: 0.8140 - val_loss: 0.4208 - val_acc: 0.8000\n",
      "Epoch 23/30\n",
      " - 0s - loss: 0.4312 - acc: 0.8140 - val_loss: 0.4176 - val_acc: 0.8111\n",
      "Epoch 24/30\n",
      " - 0s - loss: 0.4307 - acc: 0.8165 - val_loss: 0.4184 - val_acc: 0.8111\n",
      "Epoch 25/30\n",
      " - 0s - loss: 0.4298 - acc: 0.8152 - val_loss: 0.4157 - val_acc: 0.8111\n",
      "Epoch 26/30\n",
      " - 0s - loss: 0.4291 - acc: 0.8152 - val_loss: 0.4145 - val_acc: 0.8000\n",
      "Epoch 27/30\n",
      " - 0s - loss: 0.4300 - acc: 0.8102 - val_loss: 0.4121 - val_acc: 0.8000\n",
      "Epoch 28/30\n",
      " - 0s - loss: 0.4286 - acc: 0.8202 - val_loss: 0.4156 - val_acc: 0.8111\n",
      "Epoch 29/30\n",
      " - 0s - loss: 0.4277 - acc: 0.8140 - val_loss: 0.4093 - val_acc: 0.8111\n",
      "Epoch 30/30\n",
      " - 0s - loss: 0.4268 - acc: 0.8202 - val_loss: 0.4111 - val_acc: 0.8111\n"
     ]
    }
   ],
   "source": [
    "# Training\n",
    "\n",
    "# Define Training method\n",
    "model.compile(loss='binary_crossentropy',\n",
    "              optimizer = 'adam',\n",
    "              metrics = ['accuracy'])\n",
    "\n",
    "# Begin Training\n",
    "train_history = model.fit(x = train_feature,\n",
    "                          y = train_labels,\n",
    "                          validation_split = 0.1,\n",
    "                          epochs = 30,\n",
    "                          batch_size = 30,\n",
    "                          verbose = 2)"
   ]
  },
  {
   "cell_type": "code",
   "execution_count": 13,
   "metadata": {},
   "outputs": [],
   "source": [
    "import matplotlib.pyplot as plt\n",
    "\n",
    "def show_train_history(train_history, train, validation):\n",
    "    plt.plot(train_history.history[train])\n",
    "    plt.plot(train_history.history[validation])\n",
    "    plt.title('Train History')\n",
    "    plt.ylabel('train')\n",
    "    plt.xlabel('Epoch')\n",
    "    plt.legend(['train', 'validation'], loc='upper left')\n",
    "    plt.show()"
   ]
  },
  {
   "cell_type": "code",
   "execution_count": 14,
   "metadata": {},
   "outputs": [
    {
     "data": {
      "image/png": "[encoded data removed]",
      "text/plain": [
       "<Figure size 432x288 with 1 Axes>"
      ]
     },
     "metadata": {
      "needs_background": "light"
     },
     "output_type": "display_data"
    }
   ],
   "source": [
    "show_train_history(train_history, 'acc', 'val_acc')"
   ]
  },
  {
   "cell_type": "code",
   "execution_count": 15,
   "metadata": {},
   "outputs": [
    {
     "data": {
      "image/png": "[encoded data removed]",
      "text/plain": [
       "<Figure size 432x288 with 1 Axes>"
      ]
     },
     "metadata": {
      "needs_background": "light"
     },
     "output_type": "display_data"
    }
   ],
   "source": [
    "show_train_history(train_history, 'loss', 'val_loss')"
   ]
  },
  {
   "cell_type": "code",
   "execution_count": 16,
   "metadata": {},
   "outputs": [
    {
     "name": "stdout",
     "output_type": "stream",
     "text": [
      "891/891 [==============================] - 0s 85us/step\n"
     ]
    },
    {
     "data": {
      "text/plain": [
       "0.8170594839268395"
      ]
     },
     "execution_count": 16,
     "metadata": {},
     "output_type": "execute_result"
    }
   ],
   "source": [
    "# Accuracy Evaluation\n",
    "scores = model.evaluate(train_feature, train_label)\n",
    "scores[1]"
   ]
  },
  {
   "cell_type": "code",
   "execution_count": 17,
   "metadata": {},
   "outputs": [
    {
     "data": {
      "text/plain": [
       "array([0, 0, 0, 0, 0])"
      ]
     },
     "execution_count": 17,
     "metadata": {},
     "output_type": "execute_result"
    }
   ],
   "source": [
    "# Accuracy Evaluation\n",
    "\n",
    "test_file = \"data/test.csv\"\n",
    "test_data  = pd.read_csv(test_file)\n",
    "\n",
    "test_feature_df = test_data[col_features].copy()\n",
    "test_feature = PreprocessData(test_feature_df)\n",
    "\n",
    "prediction = model.predict_classes(test_feature)\n",
    "\n",
    "results = prediction[:, 0]\n",
    "results[:5]"
   ]
  },
  {
   "cell_type": "code",
   "execution_count": 18,
   "metadata": {},
   "outputs": [],
   "source": [
    "results = pd.DataFrame({\n",
    "    'PassengerId' : test_data['PassengerId'],\n",
    "    'Survived' : results\n",
    "})\n",
    "\n",
    "results.to_csv(\"data/submission2.csv\", index = False)"
   ]
  },
  {
   "cell_type": "code",
   "execution_count": null,
   "metadata": {},
   "outputs": [],
   "source": []
  }
 ],
 "metadata": {
  "kernelspec": {
   "display_name": "Python 3",
   "language": "python",
   "name": "python3"
  },
  "language_info": {
   "codemirror_mode": {
    "name": "ipython",
    "version": 3
   },
   "file_extension": ".py",
   "mimetype": "text/x-python",
   "name": "python",
   "nbconvert_exporter": "python",
   "pygments_lexer": "ipython3",
   "version": "3.6.7"
  }
 },
 "nbformat": 4,
 "nbformat_minor": 2
}
