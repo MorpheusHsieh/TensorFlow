{
 "cells": [
  {
   "cell_type": "code",
   "execution_count": 1,
   "metadata": {},
   "outputs": [
    {
     "name": "stdout",
     "output_type": "stream",
     "text": [
      "Extracting MNIST_data/train-images-idx3-ubyte.gz\n",
      "Extracting MNIST_data/train-labels-idx1-ubyte.gz\n",
      "Extracting MNIST_data/t10k-images-idx3-ubyte.gz\n",
      "Extracting MNIST_data/t10k-labels-idx1-ubyte.gz\n"
     ]
    }
   ],
   "source": [
    "# Preprocess\n",
    "\n",
    "# The solution of \"this TensorFlow binary was not compiled to use: AVX2\"\n",
    "import os\n",
    "os.environ['TF_CPP_MIN_LOG_LEVEL'] = '2' \n",
    "\n",
    "# Step.1 Read input_data\n",
    "import numpy as np\n",
    "import tensorflow as tf\n",
    "\n",
    "old_v = tf.logging.get_verbosity()\n",
    "tf.logging.set_verbosity(tf.logging.ERROR)\n",
    "\n",
    "# import tensorflow.examples.tutorials.mnist.input_data as input_data\n",
    "from tensorflow.examples.tutorials.mnist import input_data\n",
    "\n",
    "mnist = input_data.read_data_sets(\"MNIST_data/\", one_hot=True)"
   ]
  },
  {
   "cell_type": "code",
   "execution_count": 2,
   "metadata": {},
   "outputs": [],
   "source": [
    "# Create common function\n",
    "\n",
    "# Step.1: define weight function\n",
    "def weight(shape):\n",
    "    return tf.Variable(tf.truncated_normal(shape, stddev=0.1), name='W')\n",
    "\n",
    "# Step.2: define bias function\n",
    "def bias(shape):\n",
    "    return tf.Variable(tf.constant(0.1, shape=shape), name='b')\n",
    "\n",
    "# Step.3: define conv2d function\n",
    "def conv2d(x, W):\n",
    "    return tf.nn.conv2d(x, W, strides=[1,1,1,1], padding='SAME')\n",
    "\n",
    "# Step.4: define max_pool_2x2 function\n",
    "def max_pool_2x2(x):\n",
    "    return tf.nn.max_pool(x, ksize = [1,2,2,1], strides = [1,2,2,1], padding = 'SAME')"
   ]
  },
  {
   "cell_type": "code",
   "execution_count": 3,
   "metadata": {},
   "outputs": [],
   "source": [
    "# Create Model\n",
    "\n",
    "# Create Input Layer\n",
    "with tf.name_scope('Input_Layer'):\n",
    "    x = tf.placeholder(\"float\", shape=[None, 784], name = 'x')\n",
    "    x_image = tf.reshape(x, [-1, 28, 28, 1])\n",
    "\n",
    "# Create CNN layer 1\n",
    "with tf.name_scope('C1_Conv'):\n",
    "    W1 = weight([5,5,1,16])\n",
    "    b1 = bias([16])\n",
    "    Conv1 = conv2d(x_image, W1) + b1\n",
    "    C1_Conv = tf.nn.relu(Conv1)\n",
    "\n",
    "# Create Pooling Layer 1\n",
    "with tf.name_scope('C1_Pool'):\n",
    "    C1_Pool = max_pool_2x2(C1_Conv)\n",
    "    \n",
    "# Create CNN layer 2\n",
    "with tf.name_scope('C2_Conv'):\n",
    "    W2 = weight([5,5,16,36])\n",
    "    b2 = bias([36])\n",
    "    Conv2 = conv2d(C1_Pool, W2) + b2\n",
    "    C2_Conv = tf.nn.relu(Conv2)\n",
    "    \n",
    "# Create pooling layer 2\n",
    "with tf.name_scope('C2_Pool'):\n",
    "    C2_Pool = max_pool_2x2(C2_Conv)\n",
    "    \n",
    "# Create Flattern Layer\n",
    "with tf.name_scope('D_Flat'):\n",
    "    D_Flat = tf.reshape(C2_Pool, [-1, 1764])\n",
    "\n",
    "# Create Hidden Layer\n",
    "with tf.name_scope('D_Hidden_Layer'):\n",
    "    W3 = weight([1764, 128])\n",
    "    b3 = bias([128])\n",
    "    D_Hidden = tf.nn.relu(tf.matmul(D_Flat, W3) + b3)\n",
    "    D_Hidden_Dropout = tf.nn.dropout(D_Hidden, keep_prob = 0.8)\n",
    "\n",
    "# Create Output Layer\n",
    "with tf.name_scope('Output_Layer'):\n",
    "    W4 = weight([128, 10])\n",
    "    b4 = bias([10])\n",
    "    y_predict = tf.nn.softmax(tf.matmul(D_Hidden_Dropout, W4) + b4)"
   ]
  },
  {
   "cell_type": "code",
   "execution_count": 4,
   "metadata": {},
   "outputs": [],
   "source": [
    "# Define Train Method\n",
    "\n",
    "with tf.name_scope('optimizer'):\n",
    "    \n",
    "    y_label = tf.placeholder(\n",
    "        \"float\", shape=[None, 10], name = 'y_label'\n",
    "    )\n",
    "    \n",
    "    loss_function = tf.reduce_mean(\n",
    "        tf.nn.softmax_cross_entropy_with_logits(\n",
    "            logits = y_predict, labels = y_label)\n",
    "    )\n",
    "    \n",
    "    optimizer = tf.train.AdamOptimizer(learning_rate = 0.0001).minimize(loss_function)"
   ]
  },
  {
   "cell_type": "code",
   "execution_count": 5,
   "metadata": {},
   "outputs": [],
   "source": [
    "# Define Model Accuracy\n",
    "\n",
    "with tf.name_scope(\"evaluate_model\"):\n",
    "    correct_prediction = tf.equal(\n",
    "        tf.argmax(y_predict, 1), tf.argmax(y_label, 1)\n",
    "    )\n",
    "    \n",
    "    accuracy = tf.reduce_mean(tf.cast(correct_prediction, \"float\"))"
   ]
  },
  {
   "cell_type": "code",
   "execution_count": 6,
   "metadata": {},
   "outputs": [
    {
     "name": "stdout",
     "output_type": "stream",
     "text": [
      "Train Epoch: 01 Loss= 1.586023092  Accuracy= 0.9008\n",
      "Train Epoch: 02 Loss= 1.540244699  Accuracy= 0.9324\n",
      "Train Epoch: 03 Loss= 1.524219871  Accuracy= 0.9466\n",
      "Train Epoch: 04 Loss= 1.510160208  Accuracy= 0.9574\n",
      "Train Epoch: 05 Loss= 1.505609989  Accuracy= 0.9606\n",
      "Train Epoch: 06 Loss= 1.498371482  Accuracy= 0.9678\n",
      "Train Epoch: 07 Loss= 1.495339274  Accuracy= 0.9702\n",
      "Train Epoch: 08 Loss= 1.492941380  Accuracy= 0.9706\n",
      "Train Epoch: 09 Loss= 1.489994168  Accuracy= 0.9738\n",
      "Train Epoch: 10 Loss= 1.485996008  Accuracy= 0.9768\n",
      "Train Epoch: 11 Loss= 1.486941934  Accuracy= 0.9764\n",
      "Train Epoch: 12 Loss= 1.484110594  Accuracy= 0.9784\n",
      "Train Epoch: 13 Loss= 1.483128071  Accuracy= 0.98\n",
      "Train Epoch: 14 Loss= 1.484626651  Accuracy= 0.9786\n",
      "Train Epoch: 15 Loss= 1.482619762  Accuracy= 0.9802\n",
      "Train Epoch: 16 Loss= 1.481818914  Accuracy= 0.9814\n",
      "Train Epoch: 17 Loss= 1.480987549  Accuracy= 0.9826\n",
      "Train Epoch: 18 Loss= 1.480225444  Accuracy= 0.9826\n",
      "Train Epoch: 19 Loss= 1.478805900  Accuracy= 0.9836\n",
      "Train Epoch: 20 Loss= 1.479213834  Accuracy= 0.9832\n",
      "Train Epoch: 21 Loss= 1.479981065  Accuracy= 0.9824\n",
      "Train Epoch: 22 Loss= 1.479323864  Accuracy= 0.9824\n",
      "Train Epoch: 23 Loss= 1.479637861  Accuracy= 0.9822\n",
      "Train Epoch: 24 Loss= 1.478507400  Accuracy= 0.9832\n",
      "Train Epoch: 25 Loss= 1.479491830  Accuracy= 0.9832\n",
      "Train Epoch: 26 Loss= 1.476794362  Accuracy= 0.9854\n",
      "Train Epoch: 27 Loss= 1.476198435  Accuracy= 0.9858\n",
      "Train Epoch: 28 Loss= 1.477265239  Accuracy= 0.985\n",
      "Train Epoch: 29 Loss= 1.476510882  Accuracy= 0.9862\n",
      "Train Epoch: 30 Loss= 1.476601005  Accuracy= 0.9858\n",
      "Train Finished takes: 1471.351000070572\n"
     ]
    }
   ],
   "source": [
    "# Train\n",
    "\n",
    "# Define Parameters\n",
    "trainEpochs = 30\n",
    "batchSize   = 100\n",
    "totalBatchs = int(mnist.train.num_examples / batchSize)\n",
    "epoch_list = []\n",
    "accuracy_list = []\n",
    "loss_list = []\n",
    "\n",
    "from time import time\n",
    "startTime = time()\n",
    "sess = tf.Session()\n",
    "sess.run(tf.global_variables_initializer())\n",
    "\n",
    "# Training\n",
    "for epoch in range(trainEpochs):\n",
    "    for i in range(totalBatchs):\n",
    "        batch_x, batch_y = mnist.train.next_batch(batchSize)\n",
    "        sess.run(optimizer, feed_dict={x: batch_x, y_label: batch_y})\n",
    "    \n",
    "    loss, acc = sess.run(\n",
    "        [loss_function, accuracy],\n",
    "        feed_dict = {x: mnist.validation.images, \n",
    "                     y_label: mnist.validation.labels}\n",
    "    )\n",
    "    epoch_list.append(epoch)\n",
    "    loss_list.append(loss)\n",
    "    accuracy_list.append(acc)\n",
    "    \n",
    "    print(\"Train Epoch:\", '%02d' % (epoch+1), \n",
    "          \"Loss=\", \"{:.9f}\".format(loss),\n",
    "          \" Accuracy=\", acc\n",
    "         )\n",
    "\n",
    "duration = time() - startTime\n",
    "print(\"Train Finished takes:\", duration)"
   ]
  },
  {
   "cell_type": "code",
   "execution_count": 7,
   "metadata": {},
   "outputs": [
    {
     "data": {
      "text/plain": [
       "<matplotlib.legend.Legend at 0x2c2d6c18>"
      ]
     },
     "execution_count": 7,
     "metadata": {},
     "output_type": "execute_result"
    },
    {
     "data": {
      "image/png": "[encoded data removed]",
      "text/plain": [
       "<Figure size 288x144 with 1 Axes>"
      ]
     },
     "metadata": {
      "needs_background": "light"
     },
     "output_type": "display_data"
    }
   ],
   "source": [
    "# Plot loss \n",
    "\n",
    "%matplotlib inline\n",
    "import matplotlib.pyplot as plt\n",
    "fig = plt.gcf()\n",
    "fig.set_size_inches(4, 2)  \n",
    "plt.plot(epoch_list, loss_list, label = 'loss')\n",
    "plt.ylabel('loss')\n",
    "plt.xlabel('epoch')\n",
    "plt.legend(['loss'], loc='upper left')"
   ]
  },
  {
   "cell_type": "code",
   "execution_count": 8,
   "metadata": {},
   "outputs": [
    {
     "data": {
      "image/png": "[encoded data removed]",
      "text/plain": [
       "<Figure size 288x144 with 1 Axes>"
      ]
     },
     "metadata": {
      "needs_background": "light"
     },
     "output_type": "display_data"
    }
   ],
   "source": [
    "# Plot accuracy\n",
    "\n",
    "plt.plot(epoch_list, accuracy_list, label = \"accuracy\")\n",
    "fig = plt.gcf()\n",
    "fig.set_size_inches(4, 2)\n",
    "plt.ylim(0.8, 1)\n",
    "plt.ylabel('accuracy')\n",
    "plt.xlabel('epoch')\n",
    "plt.legend()\n",
    "plt.show()"
   ]
  },
  {
   "cell_type": "code",
   "execution_count": 9,
   "metadata": {},
   "outputs": [
    {
     "name": "stdout",
     "output_type": "stream",
     "text": [
      "Accuracy: 0.9867\n"
     ]
    }
   ],
   "source": [
    "# Evaluate Accuracy\n",
    "print(\"Accuracy:\", sess.run(\n",
    "    accuracy, \n",
    "    feed_dict={x: mnist.test.images, y_label: mnist.test.labels}\n",
    "))"
   ]
  },
  {
   "cell_type": "code",
   "execution_count": 10,
   "metadata": {},
   "outputs": [
    {
     "data": {
      "text/plain": [
       "array([7, 2, 1, 0, 4, 1, 4, 9, 5, 9], dtype=int64)"
      ]
     },
     "execution_count": 10,
     "metadata": {},
     "output_type": "execute_result"
    }
   ],
   "source": [
    "# Run Prediction\n",
    "\n",
    "# Execute prodiction\n",
    "prediction_result = sess.run(\n",
    "    tf.argmax(y_predict, 1),\n",
    "    feed_dict = {x: mnist.test.images, y_label: mnist.test.labels}\n",
    ")\n",
    "\n",
    "# Prediction Result\n",
    "prediction_result[:10]"
   ]
  },
  {
   "cell_type": "code",
   "execution_count": 11,
   "metadata": {},
   "outputs": [],
   "source": [
    "# Define plot images function\n",
    "\n",
    "def plot_images_labels_prediction(images, labels, prediction, idx, num=10):\n",
    "    \n",
    "    fig = plt.gcf()\n",
    "    fig.set_size_inches(12, 14)\n",
    "    if num > 25: num = 25\n",
    "    for i in range(0, num):\n",
    "        ax = plt.subplot(5, 5, 1+i)\n",
    "        \n",
    "        ax.imshow(np.reshape(images[idx],(28,28)), cmap='binary')\n",
    "        title = \"label=\" + str(np.argmax(labels[idx]))\n",
    "        \n",
    "        if len(prediction) > 0:\n",
    "            title += \",predict=\" + str(prediction[idx])\n",
    "            \n",
    "        ax.set_title(title, fontsize=10)\n",
    "        ax.set_xticks([]); ax.set_yticks([])\n",
    "        idx += 1\n",
    "    plt.show()"
   ]
  },
  {
   "cell_type": "code",
   "execution_count": 12,
   "metadata": {},
   "outputs": [
    {
     "data": {
      "image/png": "[encoded data removed]",
      "text/plain": [
       "<Figure size 864x1008 with 10 Axes>"
      ]
     },
     "metadata": {},
     "output_type": "display_data"
    }
   ],
   "source": [
    "plot_images_labels_prediction(\n",
    "    mnist.test.images,\n",
    "    mnist.test.labels,\n",
    "    prediction_result,\n",
    "    0\n",
    ")"
   ]
  },
  {
   "cell_type": "code",
   "execution_count": 13,
   "metadata": {},
   "outputs": [],
   "source": [
    "# TensorBoard\n",
    "\n",
    "merged = tf.summary.merge_all()\n",
    "train_write = tf.summary.FileWriter('log/CNN', sess.graph)"
   ]
  },
  {
   "cell_type": "code",
   "execution_count": null,
   "metadata": {},
   "outputs": [],
   "source": []
  }
 ],
 "metadata": {
  "kernelspec": {
   "display_name": "Python 3",
   "language": "python",
   "name": "python3"
  },
  "language_info": {
   "codemirror_mode": {
    "name": "ipython",
    "version": 3
   },
   "file_extension": ".py",
   "mimetype": "text/x-python",
   "name": "python",
   "nbconvert_exporter": "python",
   "pygments_lexer": "ipython3",
   "version": "3.6.7"
  }
 },
 "nbformat": 4,
 "nbformat_minor": 2
}
