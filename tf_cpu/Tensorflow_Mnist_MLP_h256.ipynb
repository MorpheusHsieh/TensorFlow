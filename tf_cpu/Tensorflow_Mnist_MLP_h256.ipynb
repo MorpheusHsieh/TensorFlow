{
 "cells": [
  {
   "cell_type": "code",
   "execution_count": 1,
   "metadata": {},
   "outputs": [
    {
     "name": "stdout",
     "output_type": "stream",
     "text": [
      "Extracting MNIST_data/train-images-idx3-ubyte.gz\n",
      "Extracting MNIST_data/train-labels-idx1-ubyte.gz\n",
      "Extracting MNIST_data/t10k-images-idx3-ubyte.gz\n",
      "Extracting MNIST_data/t10k-labels-idx1-ubyte.gz\n"
     ]
    }
   ],
   "source": [
    "import numpy as np\n",
    "import tensorflow as tf\n",
    "\n",
    "#import tensorflow.examples.tutorials.mnist.input_data as input_data\n",
    "old_v = tf.logging.get_verbosity()\n",
    "tf.logging.set_verbosity(tf.logging.ERROR)\n",
    "from tensorflow.examples.tutorials.mnist import input_data\n",
    "\n",
    "mnist = input_data.read_data_sets(\"MNIST_data/\", one_hot=True)"
   ]
  },
  {
   "cell_type": "code",
   "execution_count": 2,
   "metadata": {},
   "outputs": [
    {
     "name": "stdout",
     "output_type": "stream",
     "text": [
      "train images     : (55000, 784) labels: (55000, 10)\n",
      "validation images: (5000, 784)  labels: (5000, 10)\n",
      "test images      : (10000, 784) labels: (10000, 10)\n"
     ]
    }
   ],
   "source": [
    "print('train images     :', mnist.train.images.shape,\n",
    "      'labels:'           , mnist.train.labels.shape)\n",
    "print('validation images:', mnist.validation.images.shape,\n",
    "      ' labels:'           , mnist.validation.labels.shape)\n",
    "print('test images      :', mnist.test.images.shape,\n",
    "      'labels:'           , mnist.test.labels.shape)"
   ]
  },
  {
   "cell_type": "code",
   "execution_count": 3,
   "metadata": {},
   "outputs": [],
   "source": [
    "def layer(output_dim, input_dim, inputs, activation=None):\n",
    "    W = tf.Variable(tf.random_normal([input_dim, output_dim]))\n",
    "    b = tf.Variable(tf.random_normal([1, output_dim]))\n",
    "    XWb = tf.matmul(inputs, W) + b\n",
    "    if activation is None:\n",
    "        outputs = XWb\n",
    "    else:\n",
    "        outputs = activation(XWb)\n",
    "    return outputs"
   ]
  },
  {
   "cell_type": "code",
   "execution_count": 4,
   "metadata": {},
   "outputs": [],
   "source": [
    "x = tf.placeholder(\"float\", [None, 784])"
   ]
  },
  {
   "cell_type": "code",
   "execution_count": 5,
   "metadata": {},
   "outputs": [],
   "source": [
    "h1 = layer(output_dim = 256, input_dim = 784, inputs = x, activation = tf.nn.relu)"
   ]
  },
  {
   "cell_type": "code",
   "execution_count": 6,
   "metadata": {},
   "outputs": [],
   "source": [
    "y_predict = layer(output_dim = 10, input_dim = 256, inputs = h1, activation = None)"
   ]
  },
  {
   "cell_type": "code",
   "execution_count": 7,
   "metadata": {},
   "outputs": [],
   "source": [
    "y_label = tf.placeholder(\"float\", [None, 10])"
   ]
  },
  {
   "cell_type": "code",
   "execution_count": 8,
   "metadata": {},
   "outputs": [],
   "source": [
    "loss_function = tf.reduce_mean(tf.nn.softmax_cross_entropy_with_logits(logits = y_predict, labels = y_label))"
   ]
  },
  {
   "cell_type": "code",
   "execution_count": 9,
   "metadata": {},
   "outputs": [],
   "source": [
    "optimizer = tf.train.AdamOptimizer(learning_rate = 0.001).minimize(loss_function)"
   ]
  },
  {
   "cell_type": "code",
   "execution_count": 10,
   "metadata": {},
   "outputs": [],
   "source": [
    "correct_prediction = tf.equal(tf.argmax(y_label, 1), tf.argmax(y_predict, 1))"
   ]
  },
  {
   "cell_type": "code",
   "execution_count": 11,
   "metadata": {},
   "outputs": [],
   "source": [
    "accuracy = tf.reduce_mean(tf.cast(correct_prediction, \"float\"))"
   ]
  },
  {
   "cell_type": "code",
   "execution_count": 12,
   "metadata": {},
   "outputs": [
    {
     "name": "stdout",
     "output_type": "stream",
     "text": [
      "Train Epoch: 01 Loss= 6.856736660  Accuracy= 0.83\n",
      "Train Epoch: 02 Loss= 4.251994610  Accuracy= 0.8842\n",
      "Train Epoch: 03 Loss= 3.298591852  Accuracy= 0.9044\n",
      "Train Epoch: 04 Loss= 2.663406610  Accuracy= 0.918\n",
      "Train Epoch: 05 Loss= 2.332294464  Accuracy= 0.9234\n",
      "Train Epoch: 06 Loss= 2.050018787  Accuracy= 0.931\n",
      "Train Epoch: 07 Loss= 1.883876562  Accuracy= 0.9322\n",
      "Train Epoch: 08 Loss= 1.821891785  Accuracy= 0.9328\n",
      "Train Epoch: 09 Loss= 1.628813267  Accuracy= 0.9384\n",
      "Train Epoch: 10 Loss= 1.478969216  Accuracy= 0.9408\n",
      "Train Epoch: 11 Loss= 1.452196717  Accuracy= 0.9432\n",
      "Train Epoch: 12 Loss= 1.394448400  Accuracy= 0.9422\n",
      "Train Epoch: 13 Loss= 1.316482544  Accuracy= 0.9458\n",
      "Train Epoch: 14 Loss= 1.340490580  Accuracy= 0.943\n",
      "Train Epoch: 15 Loss= 1.330504060  Accuracy= 0.9438\n",
      "Train Finished takes: 16.594000101089478\n"
     ]
    }
   ],
   "source": [
    "trainEpochs = 15\n",
    "batchSize =100\n",
    "totalBatchs = int(mnist.train.num_examples / batchSize)\n",
    "\n",
    "loss_list = []\n",
    "epoch_list = []\n",
    "accuracy_list = []\n",
    "\n",
    "from time import time\n",
    "startTime = time()\n",
    "\n",
    "sess = tf.Session()\n",
    "sess.run(tf.global_variables_initializer())\n",
    "\n",
    "for epoch in range(trainEpochs):\n",
    "    for i in range(totalBatchs):\n",
    "        batch_x, batch_y = mnist.train.next_batch(batchSize)\n",
    "        sess.run(optimizer, feed_dict={x: batch_x, y_label: batch_y})\n",
    "    \n",
    "    loss, acc = sess.run([loss_function, accuracy],\n",
    "                          feed_dict = {x: mnist.validation.images,\n",
    "                                       y_label: mnist.validation.labels})    \n",
    "    epoch_list.append(epoch)\n",
    "    loss_list.append(loss)\n",
    "    accuracy_list.append(acc)\n",
    "    print(\"Train Epoch:\", '%02d' % (epoch+1), \"Loss=\", \"{:.9f}\".format(loss),\" Accuracy=\", acc)\n",
    "\n",
    "duration = time() - startTime\n",
    "print(\"Train Finished takes:\", duration)"
   ]
  },
  {
   "cell_type": "code",
   "execution_count": 13,
   "metadata": {},
   "outputs": [
    {
     "data": {
      "text/plain": [
       "<matplotlib.legend.Legend at 0x2c7edb70>"
      ]
     },
     "execution_count": 13,
     "metadata": {},
     "output_type": "execute_result"
    },
    {
     "data": {
      "image/png": "[encoded data removed]",
      "text/plain": [
       "<Figure size 288x144 with 1 Axes>"
      ]
     },
     "metadata": {
      "needs_background": "light"
     },
     "output_type": "display_data"
    }
   ],
   "source": [
    "# plot loss \n",
    "\n",
    "%matplotlib inline\n",
    "import matplotlib.pyplot as plt\n",
    "fig = plt.gcf()\n",
    "fig.set_size_inches(4, 2)  \n",
    "plt.plot(epoch_list, loss_list, label = 'loss')\n",
    "plt.ylabel('loss')\n",
    "plt.xlabel('epoch')\n",
    "plt.legend(['loss'], loc='upper left')"
   ]
  },
  {
   "cell_type": "code",
   "execution_count": 14,
   "metadata": {},
   "outputs": [
    {
     "data": {
      "image/png": "[encoded data removed]",
      "text/plain": [
       "<Figure size 288x144 with 1 Axes>"
      ]
     },
     "metadata": {
      "needs_background": "light"
     },
     "output_type": "display_data"
    }
   ],
   "source": [
    "#plot accuracy\n",
    "\n",
    "plt.plot(epoch_list, accuracy_list, label = \"accuracy\")\n",
    "fig = plt.gcf()\n",
    "fig.set_size_inches(4, 2)\n",
    "plt.ylim(0.8, 1)\n",
    "plt.ylabel('accuracy')\n",
    "plt.xlabel('epoch')\n",
    "plt.legend()\n",
    "plt.show()"
   ]
  },
  {
   "cell_type": "code",
   "execution_count": 15,
   "metadata": {},
   "outputs": [
    {
     "name": "stdout",
     "output_type": "stream",
     "text": [
      "Accuracy: 0.9446\n"
     ]
    }
   ],
   "source": [
    "print(\"Accuracy:\", sess.run(accuracy, feed_dict={x: mnist.test.images,\n",
    "                                                 y_label: mnist.test.labels}))"
   ]
  },
  {
   "cell_type": "code",
   "execution_count": 16,
   "metadata": {},
   "outputs": [],
   "source": [
    "prediction_result = sess.run(tf.argmax(y_predict, 1), feed_dict={x: mnist.test.images})"
   ]
  },
  {
   "cell_type": "code",
   "execution_count": 17,
   "metadata": {},
   "outputs": [
    {
     "data": {
      "text/plain": [
       "array([7, 2, 1, 0, 4, 1, 4, 9, 5, 9], dtype=int64)"
      ]
     },
     "execution_count": 17,
     "metadata": {},
     "output_type": "execute_result"
    }
   ],
   "source": [
    "prediction_result[:10]"
   ]
  },
  {
   "cell_type": "code",
   "execution_count": 18,
   "metadata": {},
   "outputs": [],
   "source": [
    "def plot_images_labels_prediction(images, labels, prediction, idx, num=10):\n",
    "    \n",
    "    fig = plt.gcf()\n",
    "    fig.set_size_inches(12, 14)\n",
    "    if num > 25: num = 25\n",
    "    for i in range(0, num):\n",
    "        ax = plt.subplot(5, 5, 1+i)\n",
    "        \n",
    "        ax.imshow(np.reshape(images[idx],(28,28)), cmap='binary')\n",
    "        title = \"label=\" + str(np.argmax(labels[idx]))\n",
    "        \n",
    "        if len(prediction) > 0:\n",
    "            title += \",predict=\" + str(prediction[idx])\n",
    "            \n",
    "        ax.set_title(title, fontsize=10)\n",
    "        ax.set_xticks([]); ax.set_yticks([])\n",
    "        idx += 1\n",
    "    plt.show()"
   ]
  },
  {
   "cell_type": "code",
   "execution_count": 19,
   "metadata": {},
   "outputs": [
    {
     "data": {
      "image/png": "[encoded data removed]",
      "text/plain": [
       "<Figure size 864x1008 with 10 Axes>"
      ]
     },
     "metadata": {},
     "output_type": "display_data"
    }
   ],
   "source": [
    "plot_images_labels_prediction(mnist.test.images, mnist.test.labels, prediction_result, idx=0)"
   ]
  },
  {
   "cell_type": "code",
   "execution_count": null,
   "metadata": {},
   "outputs": [],
   "source": []
  }
 ],
 "metadata": {
  "kernelspec": {
   "display_name": "Python 3",
   "language": "python",
   "name": "python3"
  },
  "language_info": {
   "codemirror_mode": {
    "name": "ipython",
    "version": 3
   },
   "file_extension": ".py",
   "mimetype": "text/x-python",
   "name": "python",
   "nbconvert_exporter": "python",
   "pygments_lexer": "ipython3",
   "version": "3.6.7"
  }
 },
 "nbformat": 4,
 "nbformat_minor": 2
}
